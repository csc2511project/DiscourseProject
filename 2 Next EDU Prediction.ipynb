{
 "cells": [
  {
   "cell_type": "code",
   "execution_count": null,
   "metadata": {},
   "outputs": [],
   "source": [
    "SEED = 42\n",
    "PYTORCH_PRETRAINED_BERT_CACHE = \"/Users/shagun/workspace/csc2511/tmp/\""
   ]
  },
  {
   "cell_type": "code",
   "execution_count": null,
   "metadata": {},
   "outputs": [],
   "source": [
    "import os\n",
    "\n",
    "# Local network environment settings - if needed\n",
    "# Used to download pretrained BERT\n",
    "# os.environ[\"http_proxy\"] = \"127.0.0.1:11233\"\n",
    "# os.environ[\"https_proxy\"] = \"127.0.0.1:11233\""
   ]
  },
  {
   "cell_type": "code",
   "execution_count": null,
   "metadata": {},
   "outputs": [],
   "source": [
    "import logging\n",
    "\n",
    "logging.basicConfig(format = '%(asctime)s - %(levelname)s - %(name)s -   %(message)s',\n",
    "                    datefmt = '%m/%d/%Y %H:%M:%S',\n",
    "                    level = logging.INFO)\n",
    "logger = logging.getLogger(\"bert\")"
   ]
  },
  {
   "cell_type": "code",
   "execution_count": 117,
   "metadata": {},
   "outputs": [],
   "source": [
    "import pytorch_pretrained_bert"
   ]
  },
  {
   "cell_type": "code",
   "execution_count": 118,
   "metadata": {},
   "outputs": [],
   "source": [
    "import json\n",
    "import gc\n",
    "\n",
    "import torch\n",
    "import torch.nn as nn\n",
    "import pandas as pd\n",
    "import numpy as np\n",
    "import matplotlib.pyplot as plt\n",
    "\n",
    "from torch.utils.data import TensorDataset, DataLoader, SequentialSampler\n",
    "from pytorch_pretrained_bert.modeling import BertForNextSentencePrediction\n",
    "from pytorch_pretrained_bert.tokenization import BertTokenizer\n",
    "# from pytorch_pretrained_bert.optimization import BertAdam, warmup_linear, SCHEDULES\n",
    "from fastprogress import master_bar, progress_bar\n",
    "from sklearn.model_selection import StratifiedShuffleSplit"
   ]
  },
  {
   "cell_type": "code",
   "execution_count": 119,
   "metadata": {},
   "outputs": [],
   "source": [
    "device = torch.device(\"cuda\" if torch.cuda.is_available() else \"cpu\")"
   ]
  },
  {
   "cell_type": "code",
   "execution_count": 120,
   "metadata": {},
   "outputs": [],
   "source": [
    "import random\n",
    "import numpy as np\n",
    "\n",
    "random.seed(SEED)\n",
    "np.random.seed(SEED)\n",
    "torch.manual_seed(SEED)\n",
    "if device == torch.device(\"cuda\"):\n",
    "    torch.cuda.manual_seed_all(SEED)"
   ]
  },
  {
   "cell_type": "markdown",
   "metadata": {},
   "source": [
    "## Data Preparation"
   ]
  },
  {
   "cell_type": "code",
   "execution_count": 121,
   "metadata": {},
   "outputs": [
    {
     "data": {
      "text/html": [
       "<div>\n",
       "<style scoped>\n",
       "    .dataframe tbody tr th:only-of-type {\n",
       "        vertical-align: middle;\n",
       "    }\n",
       "\n",
       "    .dataframe tbody tr th {\n",
       "        vertical-align: top;\n",
       "    }\n",
       "\n",
       "    .dataframe thead th {\n",
       "        text-align: right;\n",
       "    }\n",
       "</style>\n",
       "<table border=\"1\" class=\"dataframe\">\n",
       "  <thead>\n",
       "    <tr style=\"text-align: right;\">\n",
       "      <th></th>\n",
       "      <th>File</th>\n",
       "      <th>Document</th>\n",
       "      <th>Sentence</th>\n",
       "      <th>EDU1</th>\n",
       "      <th>EDU2</th>\n",
       "    </tr>\n",
       "  </thead>\n",
       "  <tbody>\n",
       "    <tr>\n",
       "      <th>0</th>\n",
       "      <td>wsj_0669</td>\n",
       "      <td>0</td>\n",
       "      <td>0</td>\n",
       "      <td>Nissan Motor Co. expects net income to reach 1...</td>\n",
       "      <td>U.S. $857 million</td>\n",
       "    </tr>\n",
       "    <tr>\n",
       "      <th>1</th>\n",
       "      <td>wsj_0669</td>\n",
       "      <td>0</td>\n",
       "      <td>0</td>\n",
       "      <td>U.S. $857 million</td>\n",
       "      <td>in its current fiscal year, up from 114.6 bill...</td>\n",
       "    </tr>\n",
       "    <tr>\n",
       "      <th>2</th>\n",
       "      <td>wsj_0669</td>\n",
       "      <td>0</td>\n",
       "      <td>0</td>\n",
       "      <td>in its current fiscal year, up from 114.6 bill...</td>\n",
       "      <td>Yutaka Kume, president, said.</td>\n",
       "    </tr>\n",
       "    <tr>\n",
       "      <th>3</th>\n",
       "      <td>wsj_0669</td>\n",
       "      <td>0</td>\n",
       "      <td>1</td>\n",
       "      <td>Mr. Kume made the earnings projection for fisc...</td>\n",
       "      <td>ending next March 31,</td>\n",
       "    </tr>\n",
       "    <tr>\n",
       "      <th>4</th>\n",
       "      <td>wsj_0669</td>\n",
       "      <td>0</td>\n",
       "      <td>1</td>\n",
       "      <td>ending next March 31,</td>\n",
       "      <td>in an interview with U.S. automotive writers</td>\n",
       "    </tr>\n",
       "  </tbody>\n",
       "</table>\n",
       "</div>"
      ],
      "text/plain": [
       "       File  Document  Sentence  \\\n",
       "0  wsj_0669         0         0   \n",
       "1  wsj_0669         0         0   \n",
       "2  wsj_0669         0         0   \n",
       "3  wsj_0669         0         1   \n",
       "4  wsj_0669         0         1   \n",
       "\n",
       "                                                EDU1  \\\n",
       "0  Nissan Motor Co. expects net income to reach 1...   \n",
       "1                                  U.S. $857 million   \n",
       "2  in its current fiscal year, up from 114.6 bill...   \n",
       "3  Mr. Kume made the earnings projection for fisc...   \n",
       "4                              ending next March 31,   \n",
       "\n",
       "                                                EDU2  \n",
       "0                                  U.S. $857 million  \n",
       "1  in its current fiscal year, up from 114.6 bill...  \n",
       "2                      Yutaka Kume, president, said.  \n",
       "3                              ending next March 31,  \n",
       "4       in an interview with U.S. automotive writers  "
      ]
     },
     "execution_count": 121,
     "metadata": {},
     "output_type": "execute_result"
    }
   ],
   "source": [
    "\"\"\" Load Data\n",
    "    \n",
    "    Outputs\n",
    "    ----------\n",
    "    df_data : pandas dataframe containing data\n",
    "\n",
    "\"\"\"\n",
    "\n",
    "df_data = pd.read_csv('EDU_pairs_TRAINING.csv')\n",
    "df_data.head()"
   ]
  },
  {
   "cell_type": "code",
   "execution_count": 122,
   "metadata": {},
   "outputs": [
    {
     "data": {
      "text/plain": [
       "12083"
      ]
     },
     "execution_count": 122,
     "metadata": {},
     "output_type": "execute_result"
    }
   ],
   "source": [
    "df_data.shape[0]"
   ]
  },
  {
   "cell_type": "code",
   "execution_count": 123,
   "metadata": {
    "scrolled": true
   },
   "outputs": [
    {
     "data": {
      "text/plain": [
       "count    12083.000000\n",
       "mean        42.825540\n",
       "std         29.073975\n",
       "min          2.000000\n",
       "25%         21.000000\n",
       "50%         36.000000\n",
       "75%         58.000000\n",
       "max        309.000000\n",
       "Name: EDU1, dtype: float64"
      ]
     },
     "execution_count": 123,
     "metadata": {},
     "output_type": "execute_result"
    }
   ],
   "source": [
    "df_data.EDU1.str.len().describe()"
   ]
  },
  {
   "cell_type": "code",
   "execution_count": 124,
   "metadata": {},
   "outputs": [
    {
     "data": {
      "text/plain": [
       "count    12083.000000\n",
       "mean        44.961930\n",
       "std         29.097944\n",
       "min          2.000000\n",
       "25%         24.000000\n",
       "50%         39.000000\n",
       "75%         60.000000\n",
       "max        309.000000\n",
       "Name: EDU2, dtype: float64"
      ]
     },
     "execution_count": 124,
     "metadata": {},
     "output_type": "execute_result"
    }
   ],
   "source": [
    "df_data.EDU2.str.len().describe()"
   ]
  },
  {
   "cell_type": "markdown",
   "metadata": {},
   "source": [
    "#### Check how many edu's are really short"
   ]
  },
  {
   "cell_type": "code",
   "execution_count": 141,
   "metadata": {},
   "outputs": [],
   "source": [
    "edu1_ix = df_data.index[df_data.EDU1.str.len() < 20]\n",
    "edu2_ix = df_data.index[df_data.EDU2.str.len() < 20]"
   ]
  },
  {
   "cell_type": "code",
   "execution_count": 142,
   "metadata": {},
   "outputs": [
    {
     "data": {
      "text/plain": [
       "2688"
      ]
     },
     "execution_count": 142,
     "metadata": {},
     "output_type": "execute_result"
    }
   ],
   "source": [
    "len(edu1_ix)"
   ]
  },
  {
   "cell_type": "code",
   "execution_count": 143,
   "metadata": {},
   "outputs": [
    {
     "data": {
      "text/plain": [
       "2152"
      ]
     },
     "execution_count": 143,
     "metadata": {},
     "output_type": "execute_result"
    }
   ],
   "source": [
    "len(edu2_ix)"
   ]
  },
  {
   "cell_type": "code",
   "execution_count": 144,
   "metadata": {},
   "outputs": [
    {
     "data": {
      "text/plain": [
       "4840"
      ]
     },
     "execution_count": 144,
     "metadata": {},
     "output_type": "execute_result"
    }
   ],
   "source": [
    "a = np.concatenate((edu1_ix, edu2_ix), axis=0)\n",
    "len(a)"
   ]
  },
  {
   "cell_type": "code",
   "execution_count": 145,
   "metadata": {},
   "outputs": [
    {
     "data": {
      "text/plain": [
       "4346"
      ]
     },
     "execution_count": 145,
     "metadata": {},
     "output_type": "execute_result"
    }
   ],
   "source": [
    "len(np.unique(a))"
   ]
  },
  {
   "cell_type": "code",
   "execution_count": 129,
   "metadata": {},
   "outputs": [
    {
     "data": {
      "text/plain": [
       "2152"
      ]
     },
     "execution_count": 129,
     "metadata": {},
     "output_type": "execute_result"
    }
   ],
   "source": [
    " df_data[df_data.EDU2.str.len() < 20].shape[0]"
   ]
  },
  {
   "cell_type": "code",
   "execution_count": 148,
   "metadata": {},
   "outputs": [
    {
     "name": "stdout",
     "output_type": "stream",
     "text": [
      "EDU1 (length < 5): 189 (0.02)\n",
      "EDU2 (length < 5): 151 (0.01)\n",
      "Total Rows (length < 5): 339 (0.03)\n",
      "\n",
      "EDU1 (length < 10): 839 (0.07)\n",
      "EDU2 (length < 10): 684 (0.06)\n",
      "Total Rows (length < 10): 1468 (0.12)\n",
      "\n",
      "EDU1 (length < 20): 2688 (0.22)\n",
      "EDU2 (length < 20): 2152 (0.18)\n",
      "Total Rows (length < 20): 4346 (0.36)\n",
      "\n"
     ]
    }
   ],
   "source": [
    "# EDU1_check_count = df_data[df_data.EDU1.str.len() < k].shape[0]\n",
    "checks = [5, 10, 20]\n",
    "\n",
    "for k in checks:\n",
    "    EDU1_check_count = df_data[df_data.EDU1.str.len() < k].shape[0]\n",
    "    EDU1_check_fraction = EDU1_check_count/df_data.shape[0]\n",
    "    EDU1_format = [k, EDU1_check_count, round(EDU1_check_fraction, 2)]\n",
    "\n",
    "    EDU2_check_count = df_data[df_data.EDU2.str.len() < k].shape[0]\n",
    "    EDU2_check_fraction = EDU2_check_count/df_data.shape[0]\n",
    "    EDU2_format = [k, EDU2_check_count, round(EDU2_check_fraction, 2)]\n",
    "    \n",
    "    edu1_ix = df_data.index[df_data.EDU1.str.len() < k]\n",
    "    edu2_ix = df_data.index[df_data.EDU2.str.len() < k]\n",
    "    all_index = np.concatenate((edu1_ix, edu2_ix), axis=0)\n",
    "    unique_rows = len(np.unique(all_index))\n",
    "    unique_rows_fr = unique_rows/df_data.shape[0]\n",
    "    rows_format = [k, unique_rows, round(unique_rows_fr, 2)]\n",
    "\n",
    "\n",
    "\n",
    "    print (\"EDU1 (length < {}): {} ({})\".format(*EDU1_format))\n",
    "    print (\"EDU2 (length < {}): {} ({})\".format(*EDU2_format))\n",
    "    print (\"Total Rows (length < {}): {} ({})\".format(*rows_format))\n",
    "    print(\"\")"
   ]
  },
  {
   "cell_type": "code",
   "execution_count": 13,
   "metadata": {},
   "outputs": [
    {
     "name": "stdout",
     "output_type": "stream",
     "text": [
      "12083 9395 9931\n"
     ]
    }
   ],
   "source": [
    "print(df_data.shape[0], df_data[df_data.EDU1.str.len() >= 20].shape[0], \n",
    "      df_data[df_data.EDU2.str.len() >= 20].shape[0],)"
   ]
  },
  {
   "cell_type": "markdown",
   "metadata": {},
   "source": [
    "#### Impose restrictions on length:"
   ]
  },
  {
   "cell_type": "code",
   "execution_count": 171,
   "metadata": {},
   "outputs": [],
   "source": [
    "k = 20"
   ]
  },
  {
   "cell_type": "code",
   "execution_count": 172,
   "metadata": {},
   "outputs": [
    {
     "data": {
      "text/plain": [
       "(9395, 5)"
      ]
     },
     "execution_count": 172,
     "metadata": {},
     "output_type": "execute_result"
    }
   ],
   "source": [
    "df_full = df_data[df_data.EDU1.str.len() >= k].copy()\n",
    "df_full.shape"
   ]
  },
  {
   "cell_type": "code",
   "execution_count": 173,
   "metadata": {},
   "outputs": [
    {
     "data": {
      "text/plain": [
       "(7737, 5)"
      ]
     },
     "execution_count": 173,
     "metadata": {},
     "output_type": "execute_result"
    }
   ],
   "source": [
    "df_full = df_full[df_full.EDU2.str.len() >= k].copy()\n",
    "df_full.shape"
   ]
  },
  {
   "cell_type": "code",
   "execution_count": 40,
   "metadata": {},
   "outputs": [
    {
     "data": {
      "text/plain": [
       "(12083, 5)"
      ]
     },
     "execution_count": 40,
     "metadata": {},
     "output_type": "execute_result"
    }
   ],
   "source": [
    "# No Restrictions:\n",
    "\n",
    "df_full = df_data.copy()\n",
    "df_full.shape"
   ]
  },
  {
   "cell_type": "code",
   "execution_count": 25,
   "metadata": {},
   "outputs": [
    {
     "data": {
      "text/plain": [
       "(100, 5)"
      ]
     },
     "execution_count": 25,
     "metadata": {},
     "output_type": "execute_result"
    }
   ],
   "source": [
    "# Create smaller sample for testing purposes\n",
    "\n",
    "# df_full = df_full.sample(n=100)\n",
    "# df_full.shape"
   ]
  },
  {
   "cell_type": "markdown",
   "metadata": {},
   "source": [
    "### Functions to create input representations"
   ]
  },
  {
   "cell_type": "code",
   "execution_count": 17,
   "metadata": {},
   "outputs": [],
   "source": [
    "class InputFeatures(object):\n",
    "    \"\"\"A single set of features of data.\"\"\"\n",
    "\n",
    "    def __init__(self, input_ids, input_mask, segment_ids, target):\n",
    "        self.input_ids = input_ids\n",
    "        self.input_mask = input_mask\n",
    "        self.segment_ids = segment_ids\n",
    "        self.target = target"
   ]
  },
  {
   "cell_type": "code",
   "execution_count": 18,
   "metadata": {},
   "outputs": [],
   "source": [
    "def _truncate_seq_pair(tokens_a, tokens_b, max_length):\n",
    "    \"\"\"Truncates a sequence pair in place to the maximum length.\"\"\"\n",
    "    # This is a simple heuristic which will always truncate the longer sequence\n",
    "    # one token at a time. This makes more sense than truncating an equal percent\n",
    "    # of tokens from each, since if one sequence is very short then each token\n",
    "    # that's truncated likely contains more information than a longer sequence.\n",
    "    while True:\n",
    "        total_length = len(tokens_a) + len(tokens_b)\n",
    "        if total_length <= max_length:\n",
    "            break\n",
    "        if len(tokens_a) > len(tokens_b):\n",
    "            tokens_a.pop()\n",
    "        else:\n",
    "            tokens_b.pop()"
   ]
  },
  {
   "cell_type": "code",
   "execution_count": null,
   "metadata": {},
   "outputs": [],
   "source": [
    "def convert_sentence_pair(titles, descs, max_seq_length, tokenizer):\n",
    "    features = []\n",
    "    for (ex_index, (title, desc)) in enumerate(zip(titles, descs)):\n",
    "        tokens_a = tokenizer.tokenize(title)\n",
    "        print(tokens_a)\n",
    "        tokens_b = None\n",
    "        tokens_b = tokenizer.tokenize(desc)\n",
    "        print(tokens_b)\n",
    "\n",
    "        # Modifies `tokens_a` and `tokens_b` in place so that the total\n",
    "        # length is less than the specified length.\n",
    "        # Account for [CLS], [SEP], [SEP] with \"- 3\"\n",
    "        _truncate_seq_pair(tokens_a, tokens_b, max_seq_length - 3)\n",
    "\n",
    "        # The convention in BERT is:\n",
    "        # (a) For sequence pairs:\n",
    "        #  tokens:   [CLS] is this jack ##son ##ville ? [SEP] no it is not . [SEP]\n",
    "        #  type_ids: 0   0  0    0    0     0       0 0    1  1  1  1   1 1\n",
    "        # (b) For single sequences:\n",
    "        #  tokens:   [CLS] the dog is hairy . [SEP]\n",
    "        #  type_ids: 0   0   0   0  0     0 0\n",
    "        #\n",
    "        # Where \"type_ids\" are used to indicate whether this is the first\n",
    "        # sequence or the second sequence. The embedding vectors for `type=0` and\n",
    "        # `type=1` were learned during pre-training and are added to the wordpiece\n",
    "        # embedding vector (and position vector). This is not *strictly* necessary\n",
    "        # since the [SEP] token unambigiously separates the sequences, but it makes\n",
    "        # it easier for the model to learn the concept of sequences.\n",
    "        #\n",
    "        # For classification tasks, the first vector (corresponding to [CLS]) is\n",
    "        # used as as the \"sentence vector\". Note that this only makes sense because\n",
    "        # the entire model is fine-tuned.\n",
    "        tokens = [\"[CLS]\"] + tokens_a + [\"[SEP]\"]\n",
    "        segment_ids = [0] * len(tokens)\n",
    "#         print(\"TOKENS\")\n",
    "#         print(tokens)\n",
    "        \n",
    "#         print(segment_ids)\n",
    "\n",
    "        if tokens_b:\n",
    "            tokens += tokens_b + [\"[SEP]\"]\n",
    "            segment_ids += [1] * (len(tokens_b) + 1)\n",
    "\n",
    "        input_ids = tokenizer.convert_tokens_to_ids(tokens)\n",
    "        print(input_ids)\n",
    "\n",
    "\n",
    "        # The mask has 1 for real tokens and 0 for padding tokens. Only real\n",
    "        # tokens are attended to.\n",
    "        input_mask = [1] * len(input_ids)\n",
    "\n",
    "        # Zero-pad up to the sequence length.\n",
    "        padding = [0] * (max_seq_length - len(input_ids))\n",
    "        input_ids += padding\n",
    "        input_mask += padding\n",
    "        segment_ids += padding\n",
    "\n",
    "        assert len(input_ids) == max_seq_length\n",
    "        assert len(input_mask) == max_seq_length\n",
    "        assert len(segment_ids) == max_seq_length\n",
    "\n",
    "        if ex_index < 5:\n",
    "            logger.info(\"*** Example ***\")\n",
    "            logger.info(\"tokens: %s\" % \" \".join(\n",
    "                    [str(x) for x in tokens]))\n",
    "            logger.info(\"input_ids: %s\" % \" \".join([str(x) for x in input_ids]))\n",
    "            logger.info(\"input_mask: %s\" % \" \".join([str(x) for x in input_mask]))\n",
    "            logger.info(\n",
    "                    \"segment_ids: %s\" % \" \".join([str(x) for x in segment_ids]))\n",
    "\n",
    "        features.append(\n",
    "                InputFeatures(\n",
    "                    input_ids=input_ids,\n",
    "                    input_mask=input_mask,\n",
    "                    segment_ids=segment_ids,\n",
    "                    target=1\n",
    "        ))\n",
    "    return features"
   ]
  },
  {
   "cell_type": "code",
   "execution_count": null,
   "metadata": {},
   "outputs": [],
   "source": [
    "tokenizer = BertTokenizer.from_pretrained(\n",
    "    \"bert-base-uncased\", do_lower_case=True, \n",
    "    cache_dir=PYTORCH_PRETRAINED_BERT_CACHE)"
   ]
  },
  {
   "cell_type": "code",
   "execution_count": null,
   "metadata": {
    "scrolled": true
   },
   "outputs": [],
   "source": [
    "# tokenizer = BertTokenizer.from_pretrained('bert-base-uncased')\n",
    "# tokenizer = BertTokenizer.from_pretrained(vocab_file, do_lower_case=True)"
   ]
  },
  {
   "cell_type": "code",
   "execution_count": 41,
   "metadata": {},
   "outputs": [
    {
     "data": {
      "text/plain": [
       "False"
      ]
     },
     "execution_count": 41,
     "metadata": {},
     "output_type": "execute_result"
    }
   ],
   "source": [
    "df_full.isnull().values.any()"
   ]
  },
  {
   "cell_type": "code",
   "execution_count": null,
   "metadata": {
    "scrolled": true
   },
   "outputs": [],
   "source": [
    "correct_pairs = convert_sentence_pair(df_full.EDU1.tolist(), df_full.EDU2.tolist(), max_seq_length=256, tokenizer=tokenizer)"
   ]
  },
  {
   "cell_type": "code",
   "execution_count": 43,
   "metadata": {},
   "outputs": [
    {
     "data": {
      "text/plain": [
       "12083"
      ]
     },
     "execution_count": 43,
     "metadata": {},
     "output_type": "execute_result"
    }
   ],
   "source": [
    "len(correct_pairs)"
   ]
  },
  {
   "cell_type": "markdown",
   "metadata": {},
   "source": [
    "## Model"
   ]
  },
  {
   "cell_type": "code",
   "execution_count": 180,
   "metadata": {
    "scrolled": true
   },
   "outputs": [
    {
     "name": "stderr",
     "output_type": "stream",
     "text": [
      "04/15/2019 02:35:38 - INFO - pytorch_pretrained_bert.modeling -   loading archive file https://s3.amazonaws.com/models.huggingface.co/bert/bert-base-uncased.tar.gz from cache at /Users/shagun/workspace/csc2511/tmp/9c41111e2de84547a463fd39217199738d1e3deb72d4fec4399e6e241983c6f0.ae3cef932725ca7a30cdcb93fc6e09150a55e2a130ec7af63975a16c153ae2ba\n",
      "04/15/2019 02:35:38 - INFO - pytorch_pretrained_bert.modeling -   extracting archive file /Users/shagun/workspace/csc2511/tmp/9c41111e2de84547a463fd39217199738d1e3deb72d4fec4399e6e241983c6f0.ae3cef932725ca7a30cdcb93fc6e09150a55e2a130ec7af63975a16c153ae2ba to temp dir /var/folders/v7/94d7pkyn0wb9s6yksjn6ctdc0000gn/T/tmpgnfu6oiv\n",
      "04/15/2019 02:35:42 - INFO - pytorch_pretrained_bert.modeling -   Model config {\n",
      "  \"attention_probs_dropout_prob\": 0.1,\n",
      "  \"hidden_act\": \"gelu\",\n",
      "  \"hidden_dropout_prob\": 0.1,\n",
      "  \"hidden_size\": 768,\n",
      "  \"initializer_range\": 0.02,\n",
      "  \"intermediate_size\": 3072,\n",
      "  \"max_position_embeddings\": 512,\n",
      "  \"num_attention_heads\": 12,\n",
      "  \"num_hidden_layers\": 12,\n",
      "  \"type_vocab_size\": 2,\n",
      "  \"vocab_size\": 30522\n",
      "}\n",
      "\n",
      "04/15/2019 02:35:45 - INFO - pytorch_pretrained_bert.modeling -   Weights from pretrained model not used in BertForNextSentencePrediction: ['cls.predictions.bias', 'cls.predictions.transform.dense.weight', 'cls.predictions.transform.dense.bias', 'cls.predictions.decoder.weight', 'cls.predictions.transform.LayerNorm.weight', 'cls.predictions.transform.LayerNorm.bias']\n"
     ]
    }
   ],
   "source": [
    "model = BertForNextSentencePrediction.from_pretrained(\n",
    "    \"bert-base-uncased\",\n",
    "    cache_dir=PYTORCH_PRETRAINED_BERT_CACHE\n",
    ").to(device)"
   ]
  },
  {
   "cell_type": "markdown",
   "metadata": {},
   "source": [
    "## Eval Correct Pairs"
   ]
  },
  {
   "cell_type": "code",
   "execution_count": 181,
   "metadata": {},
   "outputs": [
    {
     "name": "stderr",
     "output_type": "stream",
     "text": [
      "04/15/2019 02:35:45 - INFO - bert -   ***** Running evaluation *****\n",
      "04/15/2019 02:35:45 - INFO - bert -     Num examples = 7737\n",
      "04/15/2019 02:35:45 - INFO - bert -     Batch size = 128\n"
     ]
    },
    {
     "data": {
      "text/html": [
       "\n",
       "    <div>\n",
       "        <style>\n",
       "            /* Turns off some styling */\n",
       "            progress {\n",
       "                /* gets rid of default border in Firefox and Opera. */\n",
       "                border: none;\n",
       "                /* Needs to be in here for Safari polyfill so background images work as expected. */\n",
       "                background-size: auto;\n",
       "            }\n",
       "            .progress-bar-interrupted, .progress-bar-interrupted::-webkit-progress-bar {\n",
       "                background: #F44336;\n",
       "            }\n",
       "        </style>\n",
       "      <progress value='61' class='' max='61', style='width:300px; height:20px; vertical-align: middle;'></progress>\n",
       "      100.00% [61/61 1:14:35<00:00]\n",
       "    </div>\n",
       "    "
      ],
      "text/plain": [
       "<IPython.core.display.HTML object>"
      ]
     },
     "metadata": {},
     "output_type": "display_data"
    },
    {
     "name": "stdout",
     "output_type": "stream",
     "text": [
      "FINAL\n"
     ]
    }
   ],
   "source": [
    "BATCH_SIZE = 128\n",
    "logger.info(\"***** Running evaluation *****\")\n",
    "all_input_ids = torch.tensor([f.input_ids for f in correct_pairs], dtype=torch.long)\n",
    "all_input_mask = torch.tensor([f.input_mask for f in correct_pairs], dtype=torch.long)\n",
    "all_segment_ids = torch.tensor([f.segment_ids for f in correct_pairs], dtype=torch.long)\n",
    "eval_data = TensorDataset(all_input_ids, all_input_mask, all_segment_ids)\n",
    "# Run prediction for full data\n",
    "eval_sampler = SequentialSampler(eval_data)\n",
    "eval_dataloader = DataLoader(eval_data, sampler=eval_sampler, batch_size=BATCH_SIZE)\n",
    "\n",
    "logger.info(\"  Num examples = %d\", len(correct_pairs))\n",
    "logger.info(\"  Batch size = %d\", BATCH_SIZE)\n",
    "\n",
    "model.eval()\n",
    "\n",
    "res = []\n",
    "logit_res = []\n",
    "final_logit = []\n",
    "final_res = []\n",
    "\n",
    "mb = progress_bar(eval_dataloader)\n",
    "for input_ids, input_mask, segment_ids in mb:\n",
    "    input_ids = input_ids.to(device)\n",
    "    input_mask = input_mask.to(device)\n",
    "    segment_ids = segment_ids.to(device)\n",
    "\n",
    "    with torch.no_grad():\n",
    "#         res.append(nn.functional.softmax(\n",
    "#             model(input_ids, segment_ids, input_mask), dim=1\n",
    "#         )[:, 0].detach().cpu().numpy())\n",
    "        result = model(input_ids, segment_ids, input_mask)\n",
    "        res.append(nn.functional.softmax(result, dim=1)[:, 0].detach().cpu().numpy())\n",
    "        logit_res.append(result)     \n",
    "\n",
    "\n",
    "print(\"FINAL\")      \n",
    "# print(res)        \n",
    "final_res = np.concatenate(res)\n",
    "final_logit = np.concatenate(logit_res)"
   ]
  },
  {
   "cell_type": "code",
   "execution_count": 182,
   "metadata": {},
   "outputs": [
    {
     "name": "stdout",
     "output_type": "stream",
     "text": [
      "7737\n",
      "7737\n"
     ]
    }
   ],
   "source": [
    "print(len(final_res))\n",
    "print(len(final_logit))"
   ]
  },
  {
   "cell_type": "code",
   "execution_count": 158,
   "metadata": {},
   "outputs": [
    {
     "data": {
      "text/plain": [
       "array([0.9999802 , 0.99995315, 0.99997365, ..., 0.9984876 , 0.99474853,\n",
       "       0.05043331], dtype=float32)"
      ]
     },
     "execution_count": 158,
     "metadata": {},
     "output_type": "execute_result"
    }
   ],
   "source": [
    "final_res"
   ]
  },
  {
   "cell_type": "code",
   "execution_count": 159,
   "metadata": {},
   "outputs": [],
   "source": [
    "np.save('NextEDU/nextedu_results_l10.npy', final_res)"
   ]
  },
  {
   "cell_type": "code",
   "execution_count": 160,
   "metadata": {},
   "outputs": [
    {
     "data": {
      "text/plain": [
       "array([[ 5.6953754 , -5.135018  ],\n",
       "       [ 5.40756   , -4.5601993 ],\n",
       "       [ 5.552351  , -4.993738  ],\n",
       "       ...,\n",
       "       [ 3.9510546 , -2.5415049 ],\n",
       "       [ 3.3196354 , -1.9243561 ],\n",
       "       [-0.61386514,  2.3214889 ]], dtype=float32)"
      ]
     },
     "execution_count": 160,
     "metadata": {},
     "output_type": "execute_result"
    }
   ],
   "source": [
    "final_logit"
   ]
  },
  {
   "cell_type": "code",
   "execution_count": 161,
   "metadata": {},
   "outputs": [],
   "source": [
    "np.save('NextEDU/nextedu_logits_l10.npy', final_logit)"
   ]
  },
  {
   "cell_type": "code",
   "execution_count": 162,
   "metadata": {},
   "outputs": [
    {
     "data": {
      "image/png": "[encoded data removed]",
      "text/plain": [
       "<Figure size 432x288 with 1 Axes>"
      ]
     },
     "metadata": {
      "needs_background": "light"
     },
     "output_type": "display_data"
    }
   ],
   "source": [
    "_ = plt.hist(final_res, bins=50)"
   ]
  },
  {
   "cell_type": "code",
   "execution_count": 165,
   "metadata": {},
   "outputs": [
    {
     "data": {
      "image/png": "[encoded data removed]",
      "text/plain": [
       "<Figure size 432x288 with 1 Axes>"
      ]
     },
     "metadata": {
      "needs_background": "light"
     },
     "output_type": "display_data"
    }
   ],
   "source": [
    "import matplotlib.pyplot as plt\n",
    "import numpy as np\n",
    "# plt.xlim([0.0, 1.0])\n",
    "# plt.ylim([0.0, 1.0])\n",
    "# fig = plt.figure(figsize=[5, 5])\n",
    "plt.hist(final_res, bins=50, color='darkorange')\n",
    "plt.xticks(np.arange(0,1.1,0.1))\n",
    "plt.tick_params(labelsize = 11)\n",
    "plt.ylabel('Count', fontsize=12)\n",
    "plt.xlabel('Probability', fontsize=12)\n",
    "plt.tight_layout()\n",
    "plt.savefig('NextEDU/Probability_spread_orange_l10.jpg', dpi = 300)\n",
    "\n"
   ]
  },
  {
   "cell_type": "code",
   "execution_count": 184,
   "metadata": {},
   "outputs": [
    {
     "name": "stdout",
     "output_type": "stream",
     "text": [
      "TRUE 7737\n",
      "PRED 7737\n",
      "0.902287708414114\n",
      "756\n",
      "6981\n"
     ]
    }
   ],
   "source": [
    "from sklearn.metrics import accuracy_score\n",
    "y_true = np.ones(7737)\n",
    "print('TRUE',len(y_true))\n",
    "y_pred = []\n",
    "for i in final_res:\n",
    "    if i > 0.5:\n",
    "        y_pred.append(1)\n",
    "    elif i < 0.5:\n",
    "        y_pred.append(0)\n",
    "print('PRED',len(y_pred))\n",
    "print(accuracy_score(y_true, y_pred))\n",
    "print(len(y_pred) - sum(y_pred))\n",
    "print(sum(y_pred))"
   ]
  },
  {
   "cell_type": "markdown",
   "metadata": {},
   "source": [
    "#### Calculate Accuracy"
   ]
  },
  {
   "cell_type": "code",
   "execution_count": 166,
   "metadata": {},
   "outputs": [],
   "source": [
    "from sklearn.metrics import accuracy_score"
   ]
  },
  {
   "cell_type": "code",
   "execution_count": 167,
   "metadata": {},
   "outputs": [],
   "source": [
    "y_true = np.ones(10615)"
   ]
  },
  {
   "cell_type": "code",
   "execution_count": 168,
   "metadata": {},
   "outputs": [
    {
     "data": {
      "text/plain": [
       "10615"
      ]
     },
     "execution_count": 168,
     "metadata": {},
     "output_type": "execute_result"
    }
   ],
   "source": [
    "len(y_true)"
   ]
  },
  {
   "cell_type": "code",
   "execution_count": 169,
   "metadata": {},
   "outputs": [
    {
     "data": {
      "text/plain": [
       "10615"
      ]
     },
     "execution_count": 169,
     "metadata": {},
     "output_type": "execute_result"
    }
   ],
   "source": [
    "y_pred = []\n",
    "for i in final_res:\n",
    "    if i > 0.5:\n",
    "        y_pred.append(1)\n",
    "    elif i < 0.5:\n",
    "        y_pred.append(0)\n",
    "\n",
    "len(y_pred)"
   ]
  },
  {
   "cell_type": "code",
   "execution_count": 170,
   "metadata": {},
   "outputs": [
    {
     "data": {
      "text/plain": [
       "0.8728214790390956"
      ]
     },
     "execution_count": 170,
     "metadata": {},
     "output_type": "execute_result"
    }
   ],
   "source": [
    "accuracy_score(y_true, y_pred)"
   ]
  },
  {
   "cell_type": "code",
   "execution_count": 179,
   "metadata": {},
   "outputs": [
    {
     "data": {
      "text/plain": [
       "1350"
      ]
     },
     "execution_count": 179,
     "metadata": {},
     "output_type": "execute_result"
    }
   ],
   "source": [
    "len(y_pred) - sum(y_pred)"
   ]
  },
  {
   "cell_type": "code",
   "execution_count": 178,
   "metadata": {},
   "outputs": [
    {
     "data": {
      "text/plain": [
       "10615"
      ]
     },
     "execution_count": 178,
     "metadata": {},
     "output_type": "execute_result"
    }
   ],
   "source": [
    "len(y_pred)"
   ]
  },
  {
   "cell_type": "code",
   "execution_count": 177,
   "metadata": {},
   "outputs": [
    {
     "data": {
      "text/plain": [
       "9265"
      ]
     },
     "execution_count": 177,
     "metadata": {},
     "output_type": "execute_result"
    }
   ],
   "source": [
    "sum(y_pred)"
   ]
  },
  {
   "cell_type": "code",
   "execution_count": 110,
   "metadata": {},
   "outputs": [
    {
     "data": {
      "text/plain": [
       "(0.7752213854175287, 0.8315815608706447, 0.15459736820326078)"
      ]
     },
     "execution_count": 110,
     "metadata": {},
     "output_type": "execute_result"
    }
   ],
   "source": [
    "sum(final_res > 0.99) / len(final_res), sum(final_res > 0.9) / len(final_res), sum(final_res < 0.5) / len(final_res)"
   ]
  },
  {
   "cell_type": "code",
   "execution_count": 111,
   "metadata": {
    "scrolled": true
   },
   "outputs": [
    {
     "data": {
      "text/plain": [
       "(array([    9,    10,    13, ..., 12072, 12078, 12082]),)"
      ]
     },
     "execution_count": 111,
     "metadata": {},
     "output_type": "execute_result"
    }
   ],
   "source": [
    "np.where(final_res < 0.5)"
   ]
  },
  {
   "cell_type": "code",
   "execution_count": 113,
   "metadata": {},
   "outputs": [
    {
     "data": {
      "text/plain": [
       "('During the next decade,', 'Mr. Kume said,')"
      ]
     },
     "execution_count": 113,
     "metadata": {},
     "output_type": "execute_result"
    }
   ],
   "source": [
    "idx = 10\n",
    "df_full.iloc[idx].EDU1, df_full.iloc[idx].EDU2"
   ]
  },
  {
   "cell_type": "code",
   "execution_count": null,
   "metadata": {},
   "outputs": [],
   "source": []
  }
 ],
 "metadata": {
  "kernelspec": {
   "display_name": "Python 3",
   "language": "python",
   "name": "python3"
  },
  "language_info": {
   "codemirror_mode": {
    "name": "ipython",
    "version": 3
   },
   "file_extension": ".py",
   "mimetype": "text/x-python",
   "name": "python",
   "nbconvert_exporter": "python",
   "pygments_lexer": "ipython3",
   "version": "3.7.3"
  }
 },
 "nbformat": 4,
 "nbformat_minor": 2
}
