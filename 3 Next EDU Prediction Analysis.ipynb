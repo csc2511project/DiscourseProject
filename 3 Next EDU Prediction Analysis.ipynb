{
 "cells": [
  {
   "cell_type": "code",
   "execution_count": 326,
   "metadata": {},
   "outputs": [],
   "source": [
    "import os\n",
    "\n",
    "# Local network environment settings - if needed\n",
    "# Used to download pretrained BERT\n",
    "# os.environ[\"http_proxy\"] = \"127.0.0.1:11233\"\n",
    "# os.environ[\"https_proxy\"] = \"127.0.0.1:11233\""
   ]
  },
  {
   "cell_type": "code",
   "execution_count": 327,
   "metadata": {},
   "outputs": [],
   "source": [
    "import logging\n",
    "\n",
    "logging.basicConfig(format = '%(asctime)s - %(levelname)s - %(name)s -   %(message)s',\n",
    "                    datefmt = '%m/%d/%Y %H:%M:%S',\n",
    "                    level = logging.INFO)\n",
    "logger = logging.getLogger(\"bert\")"
   ]
  },
  {
   "cell_type": "code",
   "execution_count": 328,
   "metadata": {},
   "outputs": [],
   "source": [
    "import pytorch_pretrained_bert"
   ]
  },
  {
   "cell_type": "code",
   "execution_count": 329,
   "metadata": {},
   "outputs": [],
   "source": [
    "import json\n",
    "import gc\n",
    "\n",
    "import torch\n",
    "import torch.nn as nn\n",
    "import pandas as pd\n",
    "import numpy as np\n",
    "import matplotlib.pyplot as plt\n",
    "\n",
    "from torch.utils.data import TensorDataset, DataLoader, SequentialSampler\n",
    "from pytorch_pretrained_bert.modeling import BertForNextSentencePrediction\n",
    "from pytorch_pretrained_bert.tokenization import BertTokenizer\n",
    "# from pytorch_pretrained_bert.optimization import BertAdam, warmup_linear, SCHEDULES\n",
    "from fastprogress import master_bar, progress_bar\n",
    "from sklearn.model_selection import StratifiedShuffleSplit"
   ]
  },
  {
   "cell_type": "code",
   "execution_count": 330,
   "metadata": {},
   "outputs": [],
   "source": [
    "device = torch.device(\"cuda\" if torch.cuda.is_available() else \"cpu\")"
   ]
  },
  {
   "cell_type": "code",
   "execution_count": 331,
   "metadata": {},
   "outputs": [],
   "source": [
    "import random\n",
    "import numpy as np\n",
    "SEED = 42\n",
    "random.seed(SEED)\n",
    "np.random.seed(SEED)\n",
    "torch.manual_seed(SEED)\n",
    "if device == torch.device(\"cuda\"):\n",
    "    torch.cuda.manual_seed_all(SEED)"
   ]
  },
  {
   "cell_type": "markdown",
   "metadata": {},
   "source": [
    "## Data Preparation"
   ]
  },
  {
   "cell_type": "code",
   "execution_count": 332,
   "metadata": {},
   "outputs": [
    {
     "data": {
      "text/html": [
       "<div>\n",
       "<style scoped>\n",
       "    .dataframe tbody tr th:only-of-type {\n",
       "        vertical-align: middle;\n",
       "    }\n",
       "\n",
       "    .dataframe tbody tr th {\n",
       "        vertical-align: top;\n",
       "    }\n",
       "\n",
       "    .dataframe thead th {\n",
       "        text-align: right;\n",
       "    }\n",
       "</style>\n",
       "<table border=\"1\" class=\"dataframe\">\n",
       "  <thead>\n",
       "    <tr style=\"text-align: right;\">\n",
       "      <th></th>\n",
       "      <th>File</th>\n",
       "      <th>Document</th>\n",
       "      <th>Sentence</th>\n",
       "      <th>EDU1</th>\n",
       "      <th>EDU2</th>\n",
       "    </tr>\n",
       "  </thead>\n",
       "  <tbody>\n",
       "    <tr>\n",
       "      <th>0</th>\n",
       "      <td>wsj_0669</td>\n",
       "      <td>0</td>\n",
       "      <td>0</td>\n",
       "      <td>Nissan Motor Co. expects net income to reach 1...</td>\n",
       "      <td>U.S. $857 million</td>\n",
       "    </tr>\n",
       "    <tr>\n",
       "      <th>1</th>\n",
       "      <td>wsj_0669</td>\n",
       "      <td>0</td>\n",
       "      <td>0</td>\n",
       "      <td>U.S. $857 million</td>\n",
       "      <td>in its current fiscal year, up from 114.6 bill...</td>\n",
       "    </tr>\n",
       "    <tr>\n",
       "      <th>2</th>\n",
       "      <td>wsj_0669</td>\n",
       "      <td>0</td>\n",
       "      <td>0</td>\n",
       "      <td>in its current fiscal year, up from 114.6 bill...</td>\n",
       "      <td>Yutaka Kume, president, said.</td>\n",
       "    </tr>\n",
       "    <tr>\n",
       "      <th>3</th>\n",
       "      <td>wsj_0669</td>\n",
       "      <td>0</td>\n",
       "      <td>1</td>\n",
       "      <td>Mr. Kume made the earnings projection for fisc...</td>\n",
       "      <td>ending next March 31,</td>\n",
       "    </tr>\n",
       "    <tr>\n",
       "      <th>4</th>\n",
       "      <td>wsj_0669</td>\n",
       "      <td>0</td>\n",
       "      <td>1</td>\n",
       "      <td>ending next March 31,</td>\n",
       "      <td>in an interview with U.S. automotive writers</td>\n",
       "    </tr>\n",
       "  </tbody>\n",
       "</table>\n",
       "</div>"
      ],
      "text/plain": [
       "       File  Document  Sentence  \\\n",
       "0  wsj_0669         0         0   \n",
       "1  wsj_0669         0         0   \n",
       "2  wsj_0669         0         0   \n",
       "3  wsj_0669         0         1   \n",
       "4  wsj_0669         0         1   \n",
       "\n",
       "                                                EDU1  \\\n",
       "0  Nissan Motor Co. expects net income to reach 1...   \n",
       "1                                  U.S. $857 million   \n",
       "2  in its current fiscal year, up from 114.6 bill...   \n",
       "3  Mr. Kume made the earnings projection for fisc...   \n",
       "4                              ending next March 31,   \n",
       "\n",
       "                                                EDU2  \n",
       "0                                  U.S. $857 million  \n",
       "1  in its current fiscal year, up from 114.6 bill...  \n",
       "2                      Yutaka Kume, president, said.  \n",
       "3                              ending next March 31,  \n",
       "4       in an interview with U.S. automotive writers  "
      ]
     },
     "execution_count": 332,
     "metadata": {},
     "output_type": "execute_result"
    }
   ],
   "source": [
    "\"\"\" Load Data\n",
    "    \n",
    "    Outputs\n",
    "    ----------\n",
    "    df_data : pandas dataframe containing data\n",
    "\n",
    "\"\"\"\n",
    "\n",
    "df_data = pd.read_csv('EDU_pairs_TRAINING.csv')\n",
    "df_data.head()"
   ]
  },
  {
   "cell_type": "code",
   "execution_count": 333,
   "metadata": {},
   "outputs": [
    {
     "data": {
      "text/plain": [
       "12083"
      ]
     },
     "execution_count": 333,
     "metadata": {},
     "output_type": "execute_result"
    }
   ],
   "source": [
    "df_data.shape[0]"
   ]
  },
  {
   "cell_type": "code",
   "execution_count": 334,
   "metadata": {
    "scrolled": true
   },
   "outputs": [
    {
     "data": {
      "text/plain": [
       "count    12083.000000\n",
       "mean        42.825540\n",
       "std         29.073975\n",
       "min          2.000000\n",
       "25%         21.000000\n",
       "50%         36.000000\n",
       "75%         58.000000\n",
       "max        309.000000\n",
       "Name: EDU1, dtype: float64"
      ]
     },
     "execution_count": 334,
     "metadata": {},
     "output_type": "execute_result"
    }
   ],
   "source": [
    "df_data.EDU1.str.len().describe()"
   ]
  },
  {
   "cell_type": "code",
   "execution_count": 335,
   "metadata": {},
   "outputs": [
    {
     "data": {
      "text/plain": [
       "count    12083.000000\n",
       "mean        44.961930\n",
       "std         29.097944\n",
       "min          2.000000\n",
       "25%         24.000000\n",
       "50%         39.000000\n",
       "75%         60.000000\n",
       "max        309.000000\n",
       "Name: EDU2, dtype: float64"
      ]
     },
     "execution_count": 335,
     "metadata": {},
     "output_type": "execute_result"
    }
   ],
   "source": [
    "df_data.EDU2.str.len().describe()"
   ]
  },
  {
   "cell_type": "markdown",
   "metadata": {},
   "source": [
    "#### Check how many edu's are really short"
   ]
  },
  {
   "cell_type": "code",
   "execution_count": 336,
   "metadata": {},
   "outputs": [],
   "source": [
    "edu1_ix = df_data.index[df_data.EDU1.str.len() < 20]\n",
    "edu2_ix = df_data.index[df_data.EDU2.str.len() < 20]\n"
   ]
  },
  {
   "cell_type": "code",
   "execution_count": 337,
   "metadata": {},
   "outputs": [
    {
     "data": {
      "text/plain": [
       "2688"
      ]
     },
     "execution_count": 337,
     "metadata": {},
     "output_type": "execute_result"
    }
   ],
   "source": [
    "len(edu1_ix)"
   ]
  },
  {
   "cell_type": "code",
   "execution_count": 338,
   "metadata": {},
   "outputs": [
    {
     "data": {
      "text/plain": [
       "2152"
      ]
     },
     "execution_count": 338,
     "metadata": {},
     "output_type": "execute_result"
    }
   ],
   "source": [
    "len(edu2_ix)"
   ]
  },
  {
   "cell_type": "code",
   "execution_count": 339,
   "metadata": {},
   "outputs": [
    {
     "data": {
      "text/plain": [
       "4840"
      ]
     },
     "execution_count": 339,
     "metadata": {},
     "output_type": "execute_result"
    }
   ],
   "source": [
    "a = np.concatenate((edu1_ix, edu2_ix), axis=0)\n",
    "len(a)"
   ]
  },
  {
   "cell_type": "code",
   "execution_count": 340,
   "metadata": {},
   "outputs": [
    {
     "data": {
      "text/plain": [
       "4346"
      ]
     },
     "execution_count": 340,
     "metadata": {},
     "output_type": "execute_result"
    }
   ],
   "source": [
    "len(np.unique(a))"
   ]
  },
  {
   "cell_type": "code",
   "execution_count": 341,
   "metadata": {},
   "outputs": [
    {
     "data": {
      "text/plain": [
       "2152"
      ]
     },
     "execution_count": 341,
     "metadata": {},
     "output_type": "execute_result"
    }
   ],
   "source": [
    " df_data[df_data.EDU2.str.len() < 20].shape[0]"
   ]
  },
  {
   "cell_type": "code",
   "execution_count": 342,
   "metadata": {},
   "outputs": [
    {
     "name": "stdout",
     "output_type": "stream",
     "text": [
      "EDU1 (length < 5): 189 (0.02)\n",
      "EDU2 (length < 5): 151 (0.01)\n",
      "Total Rows (length < 5): 339 (0.03)\n",
      "\n",
      "EDU1 (length < 10): 839 (0.07)\n",
      "EDU2 (length < 10): 684 (0.06)\n",
      "Total Rows (length < 10): 1468 (0.12)\n",
      "\n",
      "EDU1 (length < 20): 2688 (0.22)\n",
      "EDU2 (length < 20): 2152 (0.18)\n",
      "Total Rows (length < 20): 4346 (0.36)\n",
      "\n"
     ]
    }
   ],
   "source": [
    "# EDU1_check_count = df_data[df_data.EDU1.str.len() < k].shape[0]\n",
    "\n",
    "checks = [5, 10, 20]\n",
    "\n",
    "for k in checks:\n",
    "    EDU1_check_count = df_data[df_data.EDU1.str.len() < k].shape[0]\n",
    "    EDU1_check_fraction = EDU1_check_count/df_data.shape[0]\n",
    "    EDU1_format = [k, EDU1_check_count, round(EDU1_check_fraction, 2)]\n",
    "\n",
    "    EDU2_check_count = df_data[df_data.EDU2.str.len() < k].shape[0]\n",
    "    EDU2_check_fraction = EDU2_check_count/df_data.shape[0]\n",
    "    EDU2_format = [k, EDU2_check_count, round(EDU2_check_fraction, 2)]\n",
    "    \n",
    "    edu1_ix = df_data.index[df_data.EDU1.str.len() < k]\n",
    "    edu2_ix = df_data.index[df_data.EDU2.str.len() < k]\n",
    "    all_index = np.concatenate((edu1_ix, edu2_ix), axis=0)\n",
    "    unique_rows = len(np.unique(all_index))\n",
    "    unique_rows_fr = unique_rows/df_data.shape[0]\n",
    "    rows_format = [k, unique_rows, round(unique_rows_fr, 2)]\n",
    "\n",
    "\n",
    "\n",
    "    print (\"EDU1 (length < {}): {} ({})\".format(*EDU1_format))\n",
    "    print (\"EDU2 (length < {}): {} ({})\".format(*EDU2_format))\n",
    "    print (\"Total Rows (length < {}): {} ({})\".format(*rows_format))\n",
    "    print(\"\")"
   ]
  },
  {
   "cell_type": "code",
   "execution_count": 31,
   "metadata": {},
   "outputs": [
    {
     "name": "stdout",
     "output_type": "stream",
     "text": [
      "12083 9395 9931\n"
     ]
    }
   ],
   "source": [
    "print(df_data.shape[0], df_data[df_data.EDU1.str.len() >= 20].shape[0], \n",
    "      df_data[df_data.EDU2.str.len() >= 20].shape[0],)"
   ]
  },
  {
   "cell_type": "markdown",
   "metadata": {},
   "source": [
    "#### Impose restrictions on length:"
   ]
  },
  {
   "cell_type": "code",
   "execution_count": 149,
   "metadata": {},
   "outputs": [],
   "source": [
    "k = 10"
   ]
  },
  {
   "cell_type": "code",
   "execution_count": 150,
   "metadata": {},
   "outputs": [
    {
     "data": {
      "text/plain": [
       "(11244, 5)"
      ]
     },
     "execution_count": 150,
     "metadata": {},
     "output_type": "execute_result"
    }
   ],
   "source": [
    "df_full = df_data[df_data.EDU1.str.len() >= k].copy()\n",
    "df_full.shape"
   ]
  },
  {
   "cell_type": "code",
   "execution_count": 151,
   "metadata": {},
   "outputs": [
    {
     "data": {
      "text/plain": [
       "(10615, 5)"
      ]
     },
     "execution_count": 151,
     "metadata": {},
     "output_type": "execute_result"
    }
   ],
   "source": [
    "df_full = df_full[df_full.EDU2.str.len() >= k].copy()\n",
    "df_full.shape"
   ]
  },
  {
   "cell_type": "code",
   "execution_count": 32,
   "metadata": {},
   "outputs": [
    {
     "data": {
      "text/plain": [
       "(12083, 5)"
      ]
     },
     "execution_count": 32,
     "metadata": {},
     "output_type": "execute_result"
    }
   ],
   "source": [
    "# No Restrictions:\n",
    "\n",
    "df_full = df_data.copy()\n",
    "df_full.shape"
   ]
  },
  {
   "cell_type": "markdown",
   "metadata": {},
   "source": [
    "## Model"
   ]
  },
  {
   "cell_type": "code",
   "execution_count": 343,
   "metadata": {},
   "outputs": [],
   "source": [
    "final_res = np.load('NextEDU/nextedu_results.npy')\n",
    "final_logit = np.load('NextEDU/nextedu_logits.npy')"
   ]
  },
  {
   "cell_type": "code",
   "execution_count": 344,
   "metadata": {},
   "outputs": [
    {
     "name": "stdout",
     "output_type": "stream",
     "text": [
      "12083\n",
      "12083\n"
     ]
    }
   ],
   "source": [
    "print(len(final_res))\n",
    "print(len(final_logit))"
   ]
  },
  {
   "cell_type": "code",
   "execution_count": 345,
   "metadata": {},
   "outputs": [
    {
     "data": {
      "text/plain": [
       "array([0.9999802 , 0.99995315, 0.99997365, ..., 0.9984876 , 0.99474853,\n",
       "       0.05043332], dtype=float32)"
      ]
     },
     "execution_count": 345,
     "metadata": {},
     "output_type": "execute_result"
    }
   ],
   "source": [
    "final_res"
   ]
  },
  {
   "cell_type": "code",
   "execution_count": 346,
   "metadata": {},
   "outputs": [
    {
     "data": {
      "text/plain": [
       "array([[ 5.6953754 , -5.135018  ],\n",
       "       [ 5.40756   , -4.5601993 ],\n",
       "       [ 5.552351  , -4.993738  ],\n",
       "       ...,\n",
       "       [ 3.9510546 , -2.5415049 ],\n",
       "       [ 3.3196354 , -1.9243561 ],\n",
       "       [-0.61386514,  2.3214886 ]], dtype=float32)"
      ]
     },
     "execution_count": 346,
     "metadata": {},
     "output_type": "execute_result"
    }
   ],
   "source": [
    "final_logit"
   ]
  },
  {
   "cell_type": "code",
   "execution_count": 347,
   "metadata": {},
   "outputs": [],
   "source": [
    "plt.rcParams[\"font.family\"] = \"SF Pro Display\""
   ]
  },
  {
   "cell_type": "code",
   "execution_count": 349,
   "metadata": {},
   "outputs": [
    {
     "data": {
      "image/png": "[encoded data removed]",
      "text/plain": [
       "<Figure size 432x288 with 1 Axes>"
      ]
     },
     "metadata": {
      "needs_background": "light"
     },
     "output_type": "display_data"
    }
   ],
   "source": [
    "import matplotlib.pyplot as plt\n",
    "import numpy as np\n",
    "# plt.xlim([0.0, 1.0])\n",
    "# plt.ylim([0.0, 1.0])\n",
    "# fig = plt.figure(figsize=[5, 5])\n",
    "plt.hist(final_res, bins=20, color='darkorange')\n",
    "plt.xticks(np.arange(0,1.1,0.1))\n",
    "plt.tick_params(labelsize = 11)\n",
    "plt.ylabel('Count (log scale)', fontsize=12)\n",
    "plt.xlabel('Probability', fontsize=12)\n",
    "plt.yscale('log', nonposy='clip')\n",
    "plt.tight_layout()\n",
    "plt.savefig('NextEDU/Probability_spread_orange_logscale.jpg', dpi = 300)\n",
    "plt.show()\n",
    "\n"
   ]
  },
  {
   "cell_type": "code",
   "execution_count": 350,
   "metadata": {},
   "outputs": [
    {
     "data": {
      "image/png": "[encoded data removed]",
      "text/plain": [
       "<Figure size 432x288 with 1 Axes>"
      ]
     },
     "metadata": {
      "needs_background": "light"
     },
     "output_type": "display_data"
    }
   ],
   "source": [
    "import matplotlib.pyplot as plt\n",
    "import numpy as np\n",
    "# plt.xlim([0.0, 1.0])\n",
    "# plt.ylim([0.0, 1.0])\n",
    "# fig = plt.figure(figsize=[5, 5])\n",
    "plt.hist(final_res, bins=20, color='darkorange')\n",
    "plt.xticks(np.arange(0,1.1,0.1))\n",
    "plt.tick_params(labelsize = 11)\n",
    "plt.ylabel('Count', fontsize=12)\n",
    "plt.xlabel('Probability', fontsize=12)\n",
    "plt.tight_layout()\n",
    "# plt.savefig('NextEDU/Probability_spread_orange.jpg', dpi = 300)\n",
    "\n"
   ]
  },
  {
   "cell_type": "code",
   "execution_count": 352,
   "metadata": {},
   "outputs": [],
   "source": [
    "groups = np.arange(0,1.1,0.1)"
   ]
  },
  {
   "cell_type": "code",
   "execution_count": 353,
   "metadata": {},
   "outputs": [
    {
     "name": "stdout",
     "output_type": "stream",
     "text": [
      "0.0 0.1\n",
      "1707\n",
      " \n",
      "0.1 0.2\n",
      "67\n",
      " \n",
      "0.2 0.30000000000000004\n",
      "39\n",
      " \n",
      "0.30000000000000004 0.4\n",
      "36\n",
      " \n",
      "0.4 0.5\n",
      "19\n",
      " \n",
      "0.5 0.6\n",
      "22\n",
      " \n",
      "0.6000000000000001 0.7000000000000001\n",
      "23\n",
      " \n",
      "0.7000000000000001 0.8\n",
      "38\n",
      " \n",
      "0.8 0.9\n",
      "84\n",
      " \n",
      "0.9 1.0\n",
      "10048\n",
      " \n",
      "1.0 1.1\n",
      "0\n",
      " \n"
     ]
    }
   ],
   "source": [
    "for interval in groups:\n",
    "    print(interval, interval+0.1)\n",
    "    print(sum((final_res > interval) & (final_res < interval+0.1)))\n",
    "    print(\" \")"
   ]
  },
  {
   "cell_type": "markdown",
   "metadata": {},
   "source": [
    "#### Calculate Accuracy"
   ]
  },
  {
   "cell_type": "code",
   "execution_count": 354,
   "metadata": {},
   "outputs": [],
   "source": [
    "from sklearn.metrics import accuracy_score"
   ]
  },
  {
   "cell_type": "code",
   "execution_count": 355,
   "metadata": {},
   "outputs": [],
   "source": [
    "y_true = np.ones(12083)"
   ]
  },
  {
   "cell_type": "code",
   "execution_count": 356,
   "metadata": {},
   "outputs": [
    {
     "data": {
      "text/plain": [
       "12083"
      ]
     },
     "execution_count": 356,
     "metadata": {},
     "output_type": "execute_result"
    }
   ],
   "source": [
    "len(y_true)"
   ]
  },
  {
   "cell_type": "code",
   "execution_count": 357,
   "metadata": {},
   "outputs": [
    {
     "data": {
      "text/plain": [
       "12083"
      ]
     },
     "execution_count": 357,
     "metadata": {},
     "output_type": "execute_result"
    }
   ],
   "source": [
    "y_pred = []\n",
    "for i in final_res:\n",
    "    if i > 0.5:\n",
    "        y_pred.append(1)\n",
    "    elif i < 0.5:\n",
    "        y_pred.append(0)\n",
    "\n",
    "len(y_pred)"
   ]
  },
  {
   "cell_type": "code",
   "execution_count": 358,
   "metadata": {},
   "outputs": [
    {
     "data": {
      "text/plain": [
       "0.8454026317967392"
      ]
     },
     "execution_count": 358,
     "metadata": {},
     "output_type": "execute_result"
    }
   ],
   "source": [
    "accuracy_score(y_true, y_pred)"
   ]
  },
  {
   "cell_type": "code",
   "execution_count": null,
   "metadata": {},
   "outputs": [],
   "source": []
  },
  {
   "cell_type": "code",
   "execution_count": 359,
   "metadata": {},
   "outputs": [
    {
     "data": {
      "text/html": [
       "<div>\n",
       "<style scoped>\n",
       "    .dataframe tbody tr th:only-of-type {\n",
       "        vertical-align: middle;\n",
       "    }\n",
       "\n",
       "    .dataframe tbody tr th {\n",
       "        vertical-align: top;\n",
       "    }\n",
       "\n",
       "    .dataframe thead th {\n",
       "        text-align: right;\n",
       "    }\n",
       "</style>\n",
       "<table border=\"1\" class=\"dataframe\">\n",
       "  <thead>\n",
       "    <tr style=\"text-align: right;\">\n",
       "      <th></th>\n",
       "      <th>File</th>\n",
       "      <th>Document</th>\n",
       "      <th>Sentence</th>\n",
       "      <th>EDU1</th>\n",
       "      <th>EDU2</th>\n",
       "    </tr>\n",
       "  </thead>\n",
       "  <tbody>\n",
       "    <tr>\n",
       "      <th>0</th>\n",
       "      <td>wsj_0669</td>\n",
       "      <td>0</td>\n",
       "      <td>0</td>\n",
       "      <td>Nissan Motor Co. expects net income to reach 1...</td>\n",
       "      <td>U.S. $857 million</td>\n",
       "    </tr>\n",
       "    <tr>\n",
       "      <th>1</th>\n",
       "      <td>wsj_0669</td>\n",
       "      <td>0</td>\n",
       "      <td>0</td>\n",
       "      <td>U.S. $857 million</td>\n",
       "      <td>in its current fiscal year, up from 114.6 bill...</td>\n",
       "    </tr>\n",
       "    <tr>\n",
       "      <th>2</th>\n",
       "      <td>wsj_0669</td>\n",
       "      <td>0</td>\n",
       "      <td>0</td>\n",
       "      <td>in its current fiscal year, up from 114.6 bill...</td>\n",
       "      <td>Yutaka Kume, president, said.</td>\n",
       "    </tr>\n",
       "    <tr>\n",
       "      <th>3</th>\n",
       "      <td>wsj_0669</td>\n",
       "      <td>0</td>\n",
       "      <td>1</td>\n",
       "      <td>Mr. Kume made the earnings projection for fisc...</td>\n",
       "      <td>ending next March 31,</td>\n",
       "    </tr>\n",
       "    <tr>\n",
       "      <th>4</th>\n",
       "      <td>wsj_0669</td>\n",
       "      <td>0</td>\n",
       "      <td>1</td>\n",
       "      <td>ending next March 31,</td>\n",
       "      <td>in an interview with U.S. automotive writers</td>\n",
       "    </tr>\n",
       "  </tbody>\n",
       "</table>\n",
       "</div>"
      ],
      "text/plain": [
       "       File  Document  Sentence  \\\n",
       "0  wsj_0669         0         0   \n",
       "1  wsj_0669         0         0   \n",
       "2  wsj_0669         0         0   \n",
       "3  wsj_0669         0         1   \n",
       "4  wsj_0669         0         1   \n",
       "\n",
       "                                                EDU1  \\\n",
       "0  Nissan Motor Co. expects net income to reach 1...   \n",
       "1                                  U.S. $857 million   \n",
       "2  in its current fiscal year, up from 114.6 bill...   \n",
       "3  Mr. Kume made the earnings projection for fisc...   \n",
       "4                              ending next March 31,   \n",
       "\n",
       "                                                EDU2  \n",
       "0                                  U.S. $857 million  \n",
       "1  in its current fiscal year, up from 114.6 bill...  \n",
       "2                      Yutaka Kume, president, said.  \n",
       "3                              ending next March 31,  \n",
       "4       in an interview with U.S. automotive writers  "
      ]
     },
     "execution_count": 359,
     "metadata": {},
     "output_type": "execute_result"
    }
   ],
   "source": [
    "## Lets calculate within document accuracy:\n",
    "df_full.head()"
   ]
  },
  {
   "cell_type": "code",
   "execution_count": 360,
   "metadata": {},
   "outputs": [],
   "source": [
    "# df_full.File.unique()\n",
    "df_results = df_full.assign(Prediction=pd.Series(y_pred).values)"
   ]
  },
  {
   "cell_type": "code",
   "execution_count": 361,
   "metadata": {},
   "outputs": [
    {
     "data": {
      "text/html": [
       "<div>\n",
       "<style scoped>\n",
       "    .dataframe tbody tr th:only-of-type {\n",
       "        vertical-align: middle;\n",
       "    }\n",
       "\n",
       "    .dataframe tbody tr th {\n",
       "        vertical-align: top;\n",
       "    }\n",
       "\n",
       "    .dataframe thead th {\n",
       "        text-align: right;\n",
       "    }\n",
       "</style>\n",
       "<table border=\"1\" class=\"dataframe\">\n",
       "  <thead>\n",
       "    <tr style=\"text-align: right;\">\n",
       "      <th></th>\n",
       "      <th>File</th>\n",
       "      <th>Document</th>\n",
       "      <th>Sentence</th>\n",
       "      <th>EDU1</th>\n",
       "      <th>EDU2</th>\n",
       "      <th>Prediction</th>\n",
       "    </tr>\n",
       "  </thead>\n",
       "  <tbody>\n",
       "    <tr>\n",
       "      <th>0</th>\n",
       "      <td>wsj_0669</td>\n",
       "      <td>0</td>\n",
       "      <td>0</td>\n",
       "      <td>Nissan Motor Co. expects net income to reach 1...</td>\n",
       "      <td>U.S. $857 million</td>\n",
       "      <td>1</td>\n",
       "    </tr>\n",
       "    <tr>\n",
       "      <th>1</th>\n",
       "      <td>wsj_0669</td>\n",
       "      <td>0</td>\n",
       "      <td>0</td>\n",
       "      <td>U.S. $857 million</td>\n",
       "      <td>in its current fiscal year, up from 114.6 bill...</td>\n",
       "      <td>1</td>\n",
       "    </tr>\n",
       "    <tr>\n",
       "      <th>2</th>\n",
       "      <td>wsj_0669</td>\n",
       "      <td>0</td>\n",
       "      <td>0</td>\n",
       "      <td>in its current fiscal year, up from 114.6 bill...</td>\n",
       "      <td>Yutaka Kume, president, said.</td>\n",
       "      <td>1</td>\n",
       "    </tr>\n",
       "    <tr>\n",
       "      <th>3</th>\n",
       "      <td>wsj_0669</td>\n",
       "      <td>0</td>\n",
       "      <td>1</td>\n",
       "      <td>Mr. Kume made the earnings projection for fisc...</td>\n",
       "      <td>ending next March 31,</td>\n",
       "      <td>1</td>\n",
       "    </tr>\n",
       "    <tr>\n",
       "      <th>4</th>\n",
       "      <td>wsj_0669</td>\n",
       "      <td>0</td>\n",
       "      <td>1</td>\n",
       "      <td>ending next March 31,</td>\n",
       "      <td>in an interview with U.S. automotive writers</td>\n",
       "      <td>1</td>\n",
       "    </tr>\n",
       "  </tbody>\n",
       "</table>\n",
       "</div>"
      ],
      "text/plain": [
       "       File  Document  Sentence  \\\n",
       "0  wsj_0669         0         0   \n",
       "1  wsj_0669         0         0   \n",
       "2  wsj_0669         0         0   \n",
       "3  wsj_0669         0         1   \n",
       "4  wsj_0669         0         1   \n",
       "\n",
       "                                                EDU1  \\\n",
       "0  Nissan Motor Co. expects net income to reach 1...   \n",
       "1                                  U.S. $857 million   \n",
       "2  in its current fiscal year, up from 114.6 bill...   \n",
       "3  Mr. Kume made the earnings projection for fisc...   \n",
       "4                              ending next March 31,   \n",
       "\n",
       "                                                EDU2  Prediction  \n",
       "0                                  U.S. $857 million           1  \n",
       "1  in its current fiscal year, up from 114.6 bill...           1  \n",
       "2                      Yutaka Kume, president, said.           1  \n",
       "3                              ending next March 31,           1  \n",
       "4       in an interview with U.S. automotive writers           1  "
      ]
     },
     "execution_count": 361,
     "metadata": {},
     "output_type": "execute_result"
    }
   ],
   "source": [
    "df_results.head()"
   ]
  },
  {
   "cell_type": "code",
   "execution_count": 362,
   "metadata": {},
   "outputs": [],
   "source": [
    "df_predictions = df_results[['File','Prediction']]"
   ]
  },
  {
   "cell_type": "code",
   "execution_count": 363,
   "metadata": {},
   "outputs": [
    {
     "data": {
      "text/html": [
       "<div>\n",
       "<style scoped>\n",
       "    .dataframe tbody tr th:only-of-type {\n",
       "        vertical-align: middle;\n",
       "    }\n",
       "\n",
       "    .dataframe tbody tr th {\n",
       "        vertical-align: top;\n",
       "    }\n",
       "\n",
       "    .dataframe thead th {\n",
       "        text-align: right;\n",
       "    }\n",
       "</style>\n",
       "<table border=\"1\" class=\"dataframe\">\n",
       "  <thead>\n",
       "    <tr style=\"text-align: right;\">\n",
       "      <th></th>\n",
       "      <th>File</th>\n",
       "      <th>Prediction</th>\n",
       "    </tr>\n",
       "  </thead>\n",
       "  <tbody>\n",
       "    <tr>\n",
       "      <th>0</th>\n",
       "      <td>wsj_0669</td>\n",
       "      <td>1</td>\n",
       "    </tr>\n",
       "    <tr>\n",
       "      <th>1</th>\n",
       "      <td>wsj_0669</td>\n",
       "      <td>1</td>\n",
       "    </tr>\n",
       "    <tr>\n",
       "      <th>2</th>\n",
       "      <td>wsj_0669</td>\n",
       "      <td>1</td>\n",
       "    </tr>\n",
       "    <tr>\n",
       "      <th>3</th>\n",
       "      <td>wsj_0669</td>\n",
       "      <td>1</td>\n",
       "    </tr>\n",
       "    <tr>\n",
       "      <th>4</th>\n",
       "      <td>wsj_0669</td>\n",
       "      <td>1</td>\n",
       "    </tr>\n",
       "  </tbody>\n",
       "</table>\n",
       "</div>"
      ],
      "text/plain": [
       "       File  Prediction\n",
       "0  wsj_0669           1\n",
       "1  wsj_0669           1\n",
       "2  wsj_0669           1\n",
       "3  wsj_0669           1\n",
       "4  wsj_0669           1"
      ]
     },
     "execution_count": 363,
     "metadata": {},
     "output_type": "execute_result"
    }
   ],
   "source": [
    "df_predictions.head()"
   ]
  },
  {
   "cell_type": "code",
   "execution_count": 364,
   "metadata": {},
   "outputs": [
    {
     "data": {
      "text/html": [
       "<div>\n",
       "<style scoped>\n",
       "    .dataframe tbody tr th:only-of-type {\n",
       "        vertical-align: middle;\n",
       "    }\n",
       "\n",
       "    .dataframe tbody tr th {\n",
       "        vertical-align: top;\n",
       "    }\n",
       "\n",
       "    .dataframe thead th {\n",
       "        text-align: right;\n",
       "    }\n",
       "</style>\n",
       "<table border=\"1\" class=\"dataframe\">\n",
       "  <thead>\n",
       "    <tr style=\"text-align: right;\">\n",
       "      <th></th>\n",
       "      <th>File</th>\n",
       "      <th>Prediction</th>\n",
       "    </tr>\n",
       "  </thead>\n",
       "  <tbody>\n",
       "    <tr>\n",
       "      <th>0</th>\n",
       "      <td>wsj_0669</td>\n",
       "      <td>1</td>\n",
       "    </tr>\n",
       "    <tr>\n",
       "      <th>1</th>\n",
       "      <td>wsj_0669</td>\n",
       "      <td>1</td>\n",
       "    </tr>\n",
       "    <tr>\n",
       "      <th>2</th>\n",
       "      <td>wsj_0669</td>\n",
       "      <td>1</td>\n",
       "    </tr>\n",
       "    <tr>\n",
       "      <th>3</th>\n",
       "      <td>wsj_0669</td>\n",
       "      <td>1</td>\n",
       "    </tr>\n",
       "    <tr>\n",
       "      <th>4</th>\n",
       "      <td>wsj_0669</td>\n",
       "      <td>1</td>\n",
       "    </tr>\n",
       "    <tr>\n",
       "      <th>5</th>\n",
       "      <td>wsj_0669</td>\n",
       "      <td>1</td>\n",
       "    </tr>\n",
       "    <tr>\n",
       "      <th>6</th>\n",
       "      <td>wsj_0669</td>\n",
       "      <td>1</td>\n",
       "    </tr>\n",
       "    <tr>\n",
       "      <th>7</th>\n",
       "      <td>wsj_0669</td>\n",
       "      <td>1</td>\n",
       "    </tr>\n",
       "    <tr>\n",
       "      <th>8</th>\n",
       "      <td>wsj_0669</td>\n",
       "      <td>1</td>\n",
       "    </tr>\n",
       "    <tr>\n",
       "      <th>9</th>\n",
       "      <td>wsj_0669</td>\n",
       "      <td>0</td>\n",
       "    </tr>\n",
       "    <tr>\n",
       "      <th>10</th>\n",
       "      <td>wsj_0669</td>\n",
       "      <td>0</td>\n",
       "    </tr>\n",
       "    <tr>\n",
       "      <th>11</th>\n",
       "      <td>wsj_0669</td>\n",
       "      <td>1</td>\n",
       "    </tr>\n",
       "    <tr>\n",
       "      <th>12</th>\n",
       "      <td>wsj_0669</td>\n",
       "      <td>1</td>\n",
       "    </tr>\n",
       "    <tr>\n",
       "      <th>13</th>\n",
       "      <td>wsj_0669</td>\n",
       "      <td>0</td>\n",
       "    </tr>\n",
       "    <tr>\n",
       "      <th>14</th>\n",
       "      <td>wsj_0669</td>\n",
       "      <td>0</td>\n",
       "    </tr>\n",
       "    <tr>\n",
       "      <th>15</th>\n",
       "      <td>wsj_0669</td>\n",
       "      <td>1</td>\n",
       "    </tr>\n",
       "    <tr>\n",
       "      <th>16</th>\n",
       "      <td>wsj_0669</td>\n",
       "      <td>0</td>\n",
       "    </tr>\n",
       "    <tr>\n",
       "      <th>17</th>\n",
       "      <td>wsj_0669</td>\n",
       "      <td>1</td>\n",
       "    </tr>\n",
       "    <tr>\n",
       "      <th>18</th>\n",
       "      <td>wsj_0669</td>\n",
       "      <td>0</td>\n",
       "    </tr>\n",
       "    <tr>\n",
       "      <th>19</th>\n",
       "      <td>wsj_0669</td>\n",
       "      <td>0</td>\n",
       "    </tr>\n",
       "    <tr>\n",
       "      <th>20</th>\n",
       "      <td>wsj_0669</td>\n",
       "      <td>1</td>\n",
       "    </tr>\n",
       "    <tr>\n",
       "      <th>21</th>\n",
       "      <td>wsj_0669</td>\n",
       "      <td>0</td>\n",
       "    </tr>\n",
       "    <tr>\n",
       "      <th>22</th>\n",
       "      <td>wsj_0669</td>\n",
       "      <td>1</td>\n",
       "    </tr>\n",
       "    <tr>\n",
       "      <th>23</th>\n",
       "      <td>wsj_0668</td>\n",
       "      <td>0</td>\n",
       "    </tr>\n",
       "    <tr>\n",
       "      <th>24</th>\n",
       "      <td>wsj_0668</td>\n",
       "      <td>1</td>\n",
       "    </tr>\n",
       "    <tr>\n",
       "      <th>25</th>\n",
       "      <td>wsj_0668</td>\n",
       "      <td>1</td>\n",
       "    </tr>\n",
       "    <tr>\n",
       "      <th>26</th>\n",
       "      <td>wsj_0668</td>\n",
       "      <td>0</td>\n",
       "    </tr>\n",
       "    <tr>\n",
       "      <th>27</th>\n",
       "      <td>wsj_0668</td>\n",
       "      <td>1</td>\n",
       "    </tr>\n",
       "    <tr>\n",
       "      <th>28</th>\n",
       "      <td>wsj_0668</td>\n",
       "      <td>1</td>\n",
       "    </tr>\n",
       "    <tr>\n",
       "      <th>29</th>\n",
       "      <td>wsj_0668</td>\n",
       "      <td>1</td>\n",
       "    </tr>\n",
       "    <tr>\n",
       "      <th>...</th>\n",
       "      <td>...</td>\n",
       "      <td>...</td>\n",
       "    </tr>\n",
       "    <tr>\n",
       "      <th>12053</th>\n",
       "      <td>wsj_1102</td>\n",
       "      <td>1</td>\n",
       "    </tr>\n",
       "    <tr>\n",
       "      <th>12054</th>\n",
       "      <td>wsj_1102</td>\n",
       "      <td>1</td>\n",
       "    </tr>\n",
       "    <tr>\n",
       "      <th>12055</th>\n",
       "      <td>wsj_1102</td>\n",
       "      <td>1</td>\n",
       "    </tr>\n",
       "    <tr>\n",
       "      <th>12056</th>\n",
       "      <td>wsj_1102</td>\n",
       "      <td>1</td>\n",
       "    </tr>\n",
       "    <tr>\n",
       "      <th>12057</th>\n",
       "      <td>wsj_1102</td>\n",
       "      <td>1</td>\n",
       "    </tr>\n",
       "    <tr>\n",
       "      <th>12058</th>\n",
       "      <td>wsj_1102</td>\n",
       "      <td>1</td>\n",
       "    </tr>\n",
       "    <tr>\n",
       "      <th>12059</th>\n",
       "      <td>wsj_1102</td>\n",
       "      <td>1</td>\n",
       "    </tr>\n",
       "    <tr>\n",
       "      <th>12060</th>\n",
       "      <td>wsj_1102</td>\n",
       "      <td>1</td>\n",
       "    </tr>\n",
       "    <tr>\n",
       "      <th>12061</th>\n",
       "      <td>wsj_1102</td>\n",
       "      <td>1</td>\n",
       "    </tr>\n",
       "    <tr>\n",
       "      <th>12062</th>\n",
       "      <td>wsj_1102</td>\n",
       "      <td>1</td>\n",
       "    </tr>\n",
       "    <tr>\n",
       "      <th>12063</th>\n",
       "      <td>wsj_1102</td>\n",
       "      <td>1</td>\n",
       "    </tr>\n",
       "    <tr>\n",
       "      <th>12064</th>\n",
       "      <td>wsj_1102</td>\n",
       "      <td>1</td>\n",
       "    </tr>\n",
       "    <tr>\n",
       "      <th>12065</th>\n",
       "      <td>wsj_1102</td>\n",
       "      <td>1</td>\n",
       "    </tr>\n",
       "    <tr>\n",
       "      <th>12066</th>\n",
       "      <td>wsj_1102</td>\n",
       "      <td>1</td>\n",
       "    </tr>\n",
       "    <tr>\n",
       "      <th>12067</th>\n",
       "      <td>wsj_1102</td>\n",
       "      <td>1</td>\n",
       "    </tr>\n",
       "    <tr>\n",
       "      <th>12068</th>\n",
       "      <td>wsj_1102</td>\n",
       "      <td>1</td>\n",
       "    </tr>\n",
       "    <tr>\n",
       "      <th>12069</th>\n",
       "      <td>wsj_1102</td>\n",
       "      <td>1</td>\n",
       "    </tr>\n",
       "    <tr>\n",
       "      <th>12070</th>\n",
       "      <td>wsj_0645</td>\n",
       "      <td>1</td>\n",
       "    </tr>\n",
       "    <tr>\n",
       "      <th>12071</th>\n",
       "      <td>wsj_0645</td>\n",
       "      <td>1</td>\n",
       "    </tr>\n",
       "    <tr>\n",
       "      <th>12072</th>\n",
       "      <td>wsj_0645</td>\n",
       "      <td>0</td>\n",
       "    </tr>\n",
       "    <tr>\n",
       "      <th>12073</th>\n",
       "      <td>wsj_0645</td>\n",
       "      <td>1</td>\n",
       "    </tr>\n",
       "    <tr>\n",
       "      <th>12074</th>\n",
       "      <td>wsj_0645</td>\n",
       "      <td>1</td>\n",
       "    </tr>\n",
       "    <tr>\n",
       "      <th>12075</th>\n",
       "      <td>wsj_0645</td>\n",
       "      <td>1</td>\n",
       "    </tr>\n",
       "    <tr>\n",
       "      <th>12076</th>\n",
       "      <td>wsj_0645</td>\n",
       "      <td>1</td>\n",
       "    </tr>\n",
       "    <tr>\n",
       "      <th>12077</th>\n",
       "      <td>wsj_0645</td>\n",
       "      <td>1</td>\n",
       "    </tr>\n",
       "    <tr>\n",
       "      <th>12078</th>\n",
       "      <td>wsj_0645</td>\n",
       "      <td>0</td>\n",
       "    </tr>\n",
       "    <tr>\n",
       "      <th>12079</th>\n",
       "      <td>wsj_0645</td>\n",
       "      <td>1</td>\n",
       "    </tr>\n",
       "    <tr>\n",
       "      <th>12080</th>\n",
       "      <td>wsj_0645</td>\n",
       "      <td>1</td>\n",
       "    </tr>\n",
       "    <tr>\n",
       "      <th>12081</th>\n",
       "      <td>wsj_0645</td>\n",
       "      <td>1</td>\n",
       "    </tr>\n",
       "    <tr>\n",
       "      <th>12082</th>\n",
       "      <td>wsj_0645</td>\n",
       "      <td>0</td>\n",
       "    </tr>\n",
       "  </tbody>\n",
       "</table>\n",
       "<p>12083 rows × 2 columns</p>\n",
       "</div>"
      ],
      "text/plain": [
       "           File  Prediction\n",
       "0      wsj_0669           1\n",
       "1      wsj_0669           1\n",
       "2      wsj_0669           1\n",
       "3      wsj_0669           1\n",
       "4      wsj_0669           1\n",
       "5      wsj_0669           1\n",
       "6      wsj_0669           1\n",
       "7      wsj_0669           1\n",
       "8      wsj_0669           1\n",
       "9      wsj_0669           0\n",
       "10     wsj_0669           0\n",
       "11     wsj_0669           1\n",
       "12     wsj_0669           1\n",
       "13     wsj_0669           0\n",
       "14     wsj_0669           0\n",
       "15     wsj_0669           1\n",
       "16     wsj_0669           0\n",
       "17     wsj_0669           1\n",
       "18     wsj_0669           0\n",
       "19     wsj_0669           0\n",
       "20     wsj_0669           1\n",
       "21     wsj_0669           0\n",
       "22     wsj_0669           1\n",
       "23     wsj_0668           0\n",
       "24     wsj_0668           1\n",
       "25     wsj_0668           1\n",
       "26     wsj_0668           0\n",
       "27     wsj_0668           1\n",
       "28     wsj_0668           1\n",
       "29     wsj_0668           1\n",
       "...         ...         ...\n",
       "12053  wsj_1102           1\n",
       "12054  wsj_1102           1\n",
       "12055  wsj_1102           1\n",
       "12056  wsj_1102           1\n",
       "12057  wsj_1102           1\n",
       "12058  wsj_1102           1\n",
       "12059  wsj_1102           1\n",
       "12060  wsj_1102           1\n",
       "12061  wsj_1102           1\n",
       "12062  wsj_1102           1\n",
       "12063  wsj_1102           1\n",
       "12064  wsj_1102           1\n",
       "12065  wsj_1102           1\n",
       "12066  wsj_1102           1\n",
       "12067  wsj_1102           1\n",
       "12068  wsj_1102           1\n",
       "12069  wsj_1102           1\n",
       "12070  wsj_0645           1\n",
       "12071  wsj_0645           1\n",
       "12072  wsj_0645           0\n",
       "12073  wsj_0645           1\n",
       "12074  wsj_0645           1\n",
       "12075  wsj_0645           1\n",
       "12076  wsj_0645           1\n",
       "12077  wsj_0645           1\n",
       "12078  wsj_0645           0\n",
       "12079  wsj_0645           1\n",
       "12080  wsj_0645           1\n",
       "12081  wsj_0645           1\n",
       "12082  wsj_0645           0\n",
       "\n",
       "[12083 rows x 2 columns]"
      ]
     },
     "execution_count": 364,
     "metadata": {},
     "output_type": "execute_result"
    }
   ],
   "source": [
    "df_predictions"
   ]
  },
  {
   "cell_type": "code",
   "execution_count": 64,
   "metadata": {},
   "outputs": [],
   "source": [
    "df_predictions.to_csv(\"NextEDU/Test_Predictions.csv\")"
   ]
  },
  {
   "cell_type": "code",
   "execution_count": 365,
   "metadata": {},
   "outputs": [
    {
     "data": {
      "text/html": [
       "<div>\n",
       "<style scoped>\n",
       "    .dataframe tbody tr th:only-of-type {\n",
       "        vertical-align: middle;\n",
       "    }\n",
       "\n",
       "    .dataframe tbody tr th {\n",
       "        vertical-align: top;\n",
       "    }\n",
       "\n",
       "    .dataframe thead th {\n",
       "        text-align: right;\n",
       "    }\n",
       "</style>\n",
       "<table border=\"1\" class=\"dataframe\">\n",
       "  <thead>\n",
       "    <tr style=\"text-align: right;\">\n",
       "      <th></th>\n",
       "      <th>Prediction</th>\n",
       "    </tr>\n",
       "    <tr>\n",
       "      <th>File</th>\n",
       "      <th></th>\n",
       "    </tr>\n",
       "  </thead>\n",
       "  <tbody>\n",
       "    <tr>\n",
       "      <th>fil</th>\n",
       "      <td>0.911111</td>\n",
       "    </tr>\n",
       "    <tr>\n",
       "      <th>file2</th>\n",
       "      <td>0.885714</td>\n",
       "    </tr>\n",
       "    <tr>\n",
       "      <th>file3</th>\n",
       "      <td>0.833333</td>\n",
       "    </tr>\n",
       "    <tr>\n",
       "      <th>file4</th>\n",
       "      <td>0.961538</td>\n",
       "    </tr>\n",
       "    <tr>\n",
       "      <th>file5</th>\n",
       "      <td>0.858209</td>\n",
       "    </tr>\n",
       "  </tbody>\n",
       "</table>\n",
       "</div>"
      ],
      "text/plain": [
       "       Prediction\n",
       "File             \n",
       "fil      0.911111\n",
       "file2    0.885714\n",
       "file3    0.833333\n",
       "file4    0.961538\n",
       "file5    0.858209"
      ]
     },
     "execution_count": 365,
     "metadata": {},
     "output_type": "execute_result"
    }
   ],
   "source": [
    "# g = df_results.groupby([\"File\"])\n",
    "# print(g.groups)\n",
    "\n",
    "df_accuracy_by_doc = df_predictions.groupby(['File']).mean()\n",
    "df_accuracy_by_doc.head()"
   ]
  },
  {
   "cell_type": "code",
   "execution_count": 65,
   "metadata": {},
   "outputs": [],
   "source": [
    "df_accuracy_by_doc.to_csv(\"Accuracy_per_doc.csv\")"
   ]
  },
  {
   "cell_type": "code",
   "execution_count": 366,
   "metadata": {},
   "outputs": [
    {
     "data": {
      "text/plain": [
       "0.8514519733028277"
      ]
     },
     "execution_count": 366,
     "metadata": {},
     "output_type": "execute_result"
    }
   ],
   "source": [
    "df_accuracy_by_doc.Prediction.mean()"
   ]
  },
  {
   "cell_type": "code",
   "execution_count": 367,
   "metadata": {},
   "outputs": [],
   "source": [
    "filenames = list(df_accuracy_by_doc.index)"
   ]
  },
  {
   "cell_type": "code",
   "execution_count": 368,
   "metadata": {},
   "outputs": [],
   "source": [
    "accuracy_score = list(df_accuracy_by_doc.Prediction)"
   ]
  },
  {
   "cell_type": "code",
   "execution_count": 369,
   "metadata": {},
   "outputs": [
    {
     "data": {
      "image/png": "[encoded data removed]",
      "text/plain": [
       "<Figure size 2880x864 with 1 Axes>"
      ]
     },
     "metadata": {
      "needs_background": "light"
     },
     "output_type": "display_data"
    }
   ],
   "source": [
    "import matplotlib.pyplot as plt\n",
    "import numpy as np\n",
    "# plt.xlim([0.0, 1.0])\n",
    "# plt.ylim([0.0, 1.0])\n",
    "fig = plt.figure(figsize=[40, 12])\n",
    "plt.bar(filenames, accuracy_score)\n",
    "\n",
    "# plt.hist(final_res, bins=50, color='darkorange')\n",
    "# plt.xticks(np.arange(0,1.1,0.1))\n",
    "plt.tick_params(axis='x', labelsize = 10)\n",
    "plt.tick_params(axis='y', labelsize = 16)\n",
    "plt.ylabel('Accuracy', fontsize=16)\n",
    "plt.xlabel('File', fontsize=16)\n",
    "plt.xticks(rotation='vertical')\n",
    "plt.tight_layout()\n",
    "# plt.show()\n",
    "# plt.savefig('NextEDU/Per_Doc_Accuracy_2.jpg', dpi = 300)\n",
    "\n"
   ]
  },
  {
   "cell_type": "code",
   "execution_count": 370,
   "metadata": {},
   "outputs": [
    {
     "data": {
      "text/html": [
       "<div>\n",
       "<style scoped>\n",
       "    .dataframe tbody tr th:only-of-type {\n",
       "        vertical-align: middle;\n",
       "    }\n",
       "\n",
       "    .dataframe tbody tr th {\n",
       "        vertical-align: top;\n",
       "    }\n",
       "\n",
       "    .dataframe thead th {\n",
       "        text-align: right;\n",
       "    }\n",
       "</style>\n",
       "<table border=\"1\" class=\"dataframe\">\n",
       "  <thead>\n",
       "    <tr style=\"text-align: right;\">\n",
       "      <th></th>\n",
       "      <th>Prediction</th>\n",
       "    </tr>\n",
       "    <tr>\n",
       "      <th>File</th>\n",
       "      <th></th>\n",
       "    </tr>\n",
       "  </thead>\n",
       "  <tbody>\n",
       "    <tr>\n",
       "      <th>wsj_1175</th>\n",
       "      <td>0.333333</td>\n",
       "    </tr>\n",
       "    <tr>\n",
       "      <th>wsj_1976</th>\n",
       "      <td>0.400000</td>\n",
       "    </tr>\n",
       "    <tr>\n",
       "      <th>wsj_2317</th>\n",
       "      <td>0.400000</td>\n",
       "    </tr>\n",
       "  </tbody>\n",
       "</table>\n",
       "</div>"
      ],
      "text/plain": [
       "          Prediction\n",
       "File                \n",
       "wsj_1175    0.333333\n",
       "wsj_1976    0.400000\n",
       "wsj_2317    0.400000"
      ]
     },
     "execution_count": 370,
     "metadata": {},
     "output_type": "execute_result"
    }
   ],
   "source": [
    "df_accuracy_by_doc.loc[df_accuracy_by_doc['Prediction'] < 0.5]"
   ]
  },
  {
   "cell_type": "markdown",
   "metadata": {},
   "source": [
    "### Let examine length vs. accuracy"
   ]
  },
  {
   "cell_type": "code",
   "execution_count": 135,
   "metadata": {},
   "outputs": [
    {
     "data": {
      "text/html": [
       "<div>\n",
       "<style scoped>\n",
       "    .dataframe tbody tr th:only-of-type {\n",
       "        vertical-align: middle;\n",
       "    }\n",
       "\n",
       "    .dataframe tbody tr th {\n",
       "        vertical-align: top;\n",
       "    }\n",
       "\n",
       "    .dataframe thead th {\n",
       "        text-align: right;\n",
       "    }\n",
       "</style>\n",
       "<table border=\"1\" class=\"dataframe\">\n",
       "  <thead>\n",
       "    <tr style=\"text-align: right;\">\n",
       "      <th></th>\n",
       "      <th>File</th>\n",
       "      <th>Document</th>\n",
       "      <th>Sentence</th>\n",
       "      <th>EDU1</th>\n",
       "      <th>EDU2</th>\n",
       "      <th>Accuracy_score</th>\n",
       "    </tr>\n",
       "  </thead>\n",
       "  <tbody>\n",
       "    <tr>\n",
       "      <th>0</th>\n",
       "      <td>wsj_0669</td>\n",
       "      <td>0</td>\n",
       "      <td>0</td>\n",
       "      <td>Nissan Motor Co. expects net income to reach 1...</td>\n",
       "      <td>U.S. $857 million</td>\n",
       "      <td>0.999980</td>\n",
       "    </tr>\n",
       "    <tr>\n",
       "      <th>1</th>\n",
       "      <td>wsj_0669</td>\n",
       "      <td>0</td>\n",
       "      <td>0</td>\n",
       "      <td>U.S. $857 million</td>\n",
       "      <td>in its current fiscal year, up from 114.6 bill...</td>\n",
       "      <td>0.999953</td>\n",
       "    </tr>\n",
       "    <tr>\n",
       "      <th>2</th>\n",
       "      <td>wsj_0669</td>\n",
       "      <td>0</td>\n",
       "      <td>0</td>\n",
       "      <td>in its current fiscal year, up from 114.6 bill...</td>\n",
       "      <td>Yutaka Kume, president, said.</td>\n",
       "      <td>0.999974</td>\n",
       "    </tr>\n",
       "    <tr>\n",
       "      <th>3</th>\n",
       "      <td>wsj_0669</td>\n",
       "      <td>0</td>\n",
       "      <td>1</td>\n",
       "      <td>Mr. Kume made the earnings projection for fisc...</td>\n",
       "      <td>ending next March 31,</td>\n",
       "      <td>0.999970</td>\n",
       "    </tr>\n",
       "    <tr>\n",
       "      <th>4</th>\n",
       "      <td>wsj_0669</td>\n",
       "      <td>0</td>\n",
       "      <td>1</td>\n",
       "      <td>ending next March 31,</td>\n",
       "      <td>in an interview with U.S. automotive writers</td>\n",
       "      <td>0.999815</td>\n",
       "    </tr>\n",
       "  </tbody>\n",
       "</table>\n",
       "</div>"
      ],
      "text/plain": [
       "       File  Document  Sentence  \\\n",
       "0  wsj_0669         0         0   \n",
       "1  wsj_0669         0         0   \n",
       "2  wsj_0669         0         0   \n",
       "3  wsj_0669         0         1   \n",
       "4  wsj_0669         0         1   \n",
       "\n",
       "                                                EDU1  \\\n",
       "0  Nissan Motor Co. expects net income to reach 1...   \n",
       "1                                  U.S. $857 million   \n",
       "2  in its current fiscal year, up from 114.6 bill...   \n",
       "3  Mr. Kume made the earnings projection for fisc...   \n",
       "4                              ending next March 31,   \n",
       "\n",
       "                                                EDU2  Accuracy_score  \n",
       "0                                  U.S. $857 million        0.999980  \n",
       "1  in its current fiscal year, up from 114.6 bill...        0.999953  \n",
       "2                      Yutaka Kume, president, said.        0.999974  \n",
       "3                              ending next March 31,        0.999970  \n",
       "4       in an interview with U.S. automotive writers        0.999815  "
      ]
     },
     "execution_count": 135,
     "metadata": {},
     "output_type": "execute_result"
    }
   ],
   "source": [
    "df_lva = df_full.assign(Accuracy_score=pd.Series(final_res).values)\n",
    "df_lva.head()"
   ]
  },
  {
   "cell_type": "code",
   "execution_count": 136,
   "metadata": {},
   "outputs": [],
   "source": [
    "df_lva = df_lva.assign(EDU1_Length=pd.Series(list(df_lva.EDU1.str.len())).values)\n",
    "df_lva = df_lva.assign(EDU2_Length=pd.Series(list(df_lva.EDU2.str.len())).values)"
   ]
  },
  {
   "cell_type": "code",
   "execution_count": 137,
   "metadata": {},
   "outputs": [
    {
     "data": {
      "text/html": [
       "<div>\n",
       "<style scoped>\n",
       "    .dataframe tbody tr th:only-of-type {\n",
       "        vertical-align: middle;\n",
       "    }\n",
       "\n",
       "    .dataframe tbody tr th {\n",
       "        vertical-align: top;\n",
       "    }\n",
       "\n",
       "    .dataframe thead th {\n",
       "        text-align: right;\n",
       "    }\n",
       "</style>\n",
       "<table border=\"1\" class=\"dataframe\">\n",
       "  <thead>\n",
       "    <tr style=\"text-align: right;\">\n",
       "      <th></th>\n",
       "      <th>File</th>\n",
       "      <th>Document</th>\n",
       "      <th>Sentence</th>\n",
       "      <th>EDU1</th>\n",
       "      <th>EDU2</th>\n",
       "      <th>Accuracy_score</th>\n",
       "      <th>EDU1_Length</th>\n",
       "      <th>EDU2_Length</th>\n",
       "    </tr>\n",
       "  </thead>\n",
       "  <tbody>\n",
       "    <tr>\n",
       "      <th>0</th>\n",
       "      <td>wsj_0669</td>\n",
       "      <td>0</td>\n",
       "      <td>0</td>\n",
       "      <td>Nissan Motor Co. expects net income to reach 1...</td>\n",
       "      <td>U.S. $857 million</td>\n",
       "      <td>0.999980</td>\n",
       "      <td>60</td>\n",
       "      <td>17</td>\n",
       "    </tr>\n",
       "    <tr>\n",
       "      <th>1</th>\n",
       "      <td>wsj_0669</td>\n",
       "      <td>0</td>\n",
       "      <td>0</td>\n",
       "      <td>U.S. $857 million</td>\n",
       "      <td>in its current fiscal year, up from 114.6 bill...</td>\n",
       "      <td>0.999953</td>\n",
       "      <td>17</td>\n",
       "      <td>75</td>\n",
       "    </tr>\n",
       "    <tr>\n",
       "      <th>2</th>\n",
       "      <td>wsj_0669</td>\n",
       "      <td>0</td>\n",
       "      <td>0</td>\n",
       "      <td>in its current fiscal year, up from 114.6 bill...</td>\n",
       "      <td>Yutaka Kume, president, said.</td>\n",
       "      <td>0.999974</td>\n",
       "      <td>75</td>\n",
       "      <td>29</td>\n",
       "    </tr>\n",
       "    <tr>\n",
       "      <th>3</th>\n",
       "      <td>wsj_0669</td>\n",
       "      <td>0</td>\n",
       "      <td>1</td>\n",
       "      <td>Mr. Kume made the earnings projection for fisc...</td>\n",
       "      <td>ending next March 31,</td>\n",
       "      <td>0.999970</td>\n",
       "      <td>54</td>\n",
       "      <td>21</td>\n",
       "    </tr>\n",
       "    <tr>\n",
       "      <th>4</th>\n",
       "      <td>wsj_0669</td>\n",
       "      <td>0</td>\n",
       "      <td>1</td>\n",
       "      <td>ending next March 31,</td>\n",
       "      <td>in an interview with U.S. automotive writers</td>\n",
       "      <td>0.999815</td>\n",
       "      <td>21</td>\n",
       "      <td>44</td>\n",
       "    </tr>\n",
       "  </tbody>\n",
       "</table>\n",
       "</div>"
      ],
      "text/plain": [
       "       File  Document  Sentence  \\\n",
       "0  wsj_0669         0         0   \n",
       "1  wsj_0669         0         0   \n",
       "2  wsj_0669         0         0   \n",
       "3  wsj_0669         0         1   \n",
       "4  wsj_0669         0         1   \n",
       "\n",
       "                                                EDU1  \\\n",
       "0  Nissan Motor Co. expects net income to reach 1...   \n",
       "1                                  U.S. $857 million   \n",
       "2  in its current fiscal year, up from 114.6 bill...   \n",
       "3  Mr. Kume made the earnings projection for fisc...   \n",
       "4                              ending next March 31,   \n",
       "\n",
       "                                                EDU2  Accuracy_score  \\\n",
       "0                                  U.S. $857 million        0.999980   \n",
       "1  in its current fiscal year, up from 114.6 bill...        0.999953   \n",
       "2                      Yutaka Kume, president, said.        0.999974   \n",
       "3                              ending next March 31,        0.999970   \n",
       "4       in an interview with U.S. automotive writers        0.999815   \n",
       "\n",
       "   EDU1_Length  EDU2_Length  \n",
       "0           60           17  \n",
       "1           17           75  \n",
       "2           75           29  \n",
       "3           54           21  \n",
       "4           21           44  "
      ]
     },
     "execution_count": 137,
     "metadata": {},
     "output_type": "execute_result"
    }
   ],
   "source": [
    "df_lva.head()\n"
   ]
  },
  {
   "cell_type": "code",
   "execution_count": 193,
   "metadata": {},
   "outputs": [],
   "source": [
    "EDU1length_below05 = list(df_lva.EDU1_Length[df_lva.Accuracy_score < 0.5])\n",
    "EDU2length_below05 = list(df_lva.EDU2_Length[df_lva.Accuracy_score < 0.5])\n",
    "accscore_below05 = list(df_lva.Accuracy_score[df_lva.Accuracy_score < 0.5])"
   ]
  },
  {
   "cell_type": "code",
   "execution_count": 241,
   "metadata": {},
   "outputs": [],
   "source": [
    "EDU1length_between0208 = list(df_lva.EDU1_Length[(df_lva.Accuracy_score < 0.8) & (df_lva.Accuracy_score > 0.2)])\n",
    "EDU2length_between0208 = list(df_lva.EDU2_Length[(df_lva.Accuracy_score < 0.8) & (df_lva.Accuracy_score > 0.2)])\n",
    "accscore_between0208 = list(df_lva.Accuracy_score[(df_lva.Accuracy_score < 0.8) & (df_lva.Accuracy_score > 0.2)])"
   ]
  },
  {
   "cell_type": "code",
   "execution_count": 178,
   "metadata": {},
   "outputs": [],
   "source": [
    "EDU1length_above05 = list(df_lva.EDU1_Length[df_lva.Accuracy_score > 0.5])"
   ]
  },
  {
   "cell_type": "code",
   "execution_count": 179,
   "metadata": {},
   "outputs": [],
   "source": [
    "EDU2length_above05 = list(df_lva.EDU2_Length[df_lva.Accuracy_score > 0.5])"
   ]
  },
  {
   "cell_type": "code",
   "execution_count": 181,
   "metadata": {},
   "outputs": [],
   "source": [
    "accscore_above05 = list(df_lva.Accuracy_score[df_lva.Accuracy_score > 0.5])"
   ]
  },
  {
   "cell_type": "code",
   "execution_count": 138,
   "metadata": {},
   "outputs": [],
   "source": [
    "accscore = list(df_lva.Accuracy_score)"
   ]
  },
  {
   "cell_type": "code",
   "execution_count": 141,
   "metadata": {},
   "outputs": [],
   "source": [
    "EDU1length = list(df_lva.EDU1_Length)"
   ]
  },
  {
   "cell_type": "code",
   "execution_count": 147,
   "metadata": {},
   "outputs": [],
   "source": [
    "EDU2length = list(df_lva.EDU2_Length)"
   ]
  },
  {
   "cell_type": "code",
   "execution_count": 146,
   "metadata": {},
   "outputs": [
    {
     "data": {
      "image/png": "[encoded data removed]",
      "text/plain": [
       "<Figure size 432x288 with 1 Axes>"
      ]
     },
     "metadata": {
      "needs_background": "light"
     },
     "output_type": "display_data"
    }
   ],
   "source": [
    "\n",
    "# plt.xlim([0.0, 1.0])\n",
    "# plt.ylim([0.0, 1.0])\n",
    "# fig = plt.figure(figsize=[5, 5])\n",
    "plt.scatter(EDU1length, accscore, color='darkorange')\n",
    "# plt.xticks(np.arange(0,1.1,0.1))\n",
    "plt.tick_params(labelsize = 11)\n",
    "plt.ylabel('Probability (Next Sentence = True)', fontsize=12)\n",
    "plt.xlabel('EDU 1 Length', fontsize=12)\n",
    "plt.tight_layout()\n",
    "# plt.savefig('NextEDU/"
   ]
  },
  {
   "cell_type": "code",
   "execution_count": 148,
   "metadata": {},
   "outputs": [
    {
     "data": {
      "image/png": "[encoded data removed]",
      "text/plain": [
       "<Figure size 432x288 with 1 Axes>"
      ]
     },
     "metadata": {
      "needs_background": "light"
     },
     "output_type": "display_data"
    }
   ],
   "source": [
    "plt.scatter(EDU2length, accscore, color='darkorange')\n",
    "# plt.xticks(np.arange(0,1.1,0.1))\n",
    "plt.tick_params(labelsize = 11)\n",
    "plt.ylabel('Probability (Next Sentence = True)', fontsize=12)\n",
    "plt.xlabel('EDU 2 Length', fontsize=12)\n",
    "plt.tight_layout()\n",
    "# plt.savefig('NextEDU/"
   ]
  },
  {
   "cell_type": "code",
   "execution_count": 149,
   "metadata": {},
   "outputs": [
    {
     "data": {
      "image/png": "[encoded data removed]",
      "text/plain": [
       "<Figure size 432x288 with 1 Axes>"
      ]
     },
     "metadata": {
      "needs_background": "light"
     },
     "output_type": "display_data"
    }
   ],
   "source": [
    "plt.scatter(EDU1length, EDU2length, color='darkorange')\n",
    "# plt.xticks(np.arange(0,1.1,0.1))\n",
    "plt.tick_params(labelsize = 11)\n",
    "plt.ylabel('EDU 2 Length', fontsize=12)\n",
    "plt.xlabel('EDU 1 Length', fontsize=12)\n",
    "plt.tight_layout()"
   ]
  },
  {
   "cell_type": "code",
   "execution_count": 210,
   "metadata": {},
   "outputs": [
    {
     "data": {
      "image/png": "[encoded data removed]",
      "text/plain": [
       "<Figure size 864x576 with 2 Axes>"
      ]
     },
     "metadata": {
      "needs_background": "light"
     },
     "output_type": "display_data"
    }
   ],
   "source": [
    "import matplotlib.pyplot as plt\n",
    "import numpy as np\n",
    "\n",
    "fig = plt.figure(figsize=[12, 8])\n",
    "plt.scatter(EDU1length, EDU2length, c=accscore, s=2, cmap='Spectral')\n",
    "plt.clim(0.0,1)\n",
    "cbar = plt.colorbar()\n",
    "cbar.ax.set_ylabel('Probability(Next Sentence) = True)')\n",
    "plt.ylabel('EDU 2 Length', fontsize=12)\n",
    "plt.xlabel('EDU 1 Length', fontsize=12)\n",
    "plt.savefig('NextEDU/EDUsvsProbability_spectral.jpg', dpi = 300)\n",
    "plt.show()"
   ]
  },
  {
   "cell_type": "code",
   "execution_count": 371,
   "metadata": {},
   "outputs": [
    {
     "data": {
      "image/png": "[encoded data removed]",
      "text/plain": [
       "<Figure size 864x576 with 2 Axes>"
      ]
     },
     "metadata": {
      "needs_background": "light"
     },
     "output_type": "display_data"
    }
   ],
   "source": [
    "import matplotlib.pyplot as plt\n",
    "import numpy as np\n",
    "\n",
    "fig = plt.figure(figsize=[12, 8])\n",
    "plt.scatter(EDU1length_above05, EDU2length_above05, c=accscore_above05, s=2, cmap='YlGnBu')\n",
    "\n",
    "plt.clim(0.5,1)\n",
    "cbar = plt.colorbar()\n",
    "cbar.ax.set_ylabel('Probability(Next Sentence) = True)')\n",
    "plt.ylabel('EDU 2 Length', fontsize=12)\n",
    "plt.xlabel('EDU 1 Length', fontsize=12)\n",
    "\n",
    "\n",
    "# plt.savefig('NextEDU/EDUsvsProbability_above05.jpg', dpi = 300)\n",
    "plt.show()"
   ]
  },
  {
   "cell_type": "code",
   "execution_count": 205,
   "metadata": {},
   "outputs": [
    {
     "data": {
      "text/plain": [
       "3.4437796330166748e-06"
      ]
     },
     "execution_count": 205,
     "metadata": {},
     "output_type": "execute_result"
    }
   ],
   "source": [
    "min(accscore_below05)"
   ]
  },
  {
   "cell_type": "code",
   "execution_count": 208,
   "metadata": {},
   "outputs": [
    {
     "data": {
      "image/png": "[encoded data removed]",
      "text/plain": [
       "<Figure size 864x576 with 2 Axes>"
      ]
     },
     "metadata": {
      "needs_background": "light"
     },
     "output_type": "display_data"
    }
   ],
   "source": [
    "import matplotlib.pyplot as plt\n",
    "import numpy as np\n",
    "\n",
    "fig = plt.figure(figsize=[12, 8])\n",
    "plt.scatter(EDU1length_below05, EDU2length_below05, c=accscore_below05, s=2, cmap='autumn')\n",
    "plt.clim(0,0.5)\n",
    "cbar = plt.colorbar()\n",
    "cbar.ax.set_ylabel('Probability(Next Sentence) = True)')\n",
    "plt.ylabel('EDU 2 Length', fontsize=12)\n",
    "plt.xlabel('EDU 1 Length', fontsize=12)\n",
    "\n",
    "\n",
    "plt.savefig('NextEDU/EDUsvsProbability_below05.jpg', dpi = 300)\n",
    "plt.show()"
   ]
  },
  {
   "cell_type": "code",
   "execution_count": 246,
   "metadata": {},
   "outputs": [
    {
     "data": {
      "image/png": "[encoded data removed]",
      "text/plain": [
       "<Figure size 864x576 with 2 Axes>"
      ]
     },
     "metadata": {
      "needs_background": "light"
     },
     "output_type": "display_data"
    }
   ],
   "source": [
    "import matplotlib.pyplot as plt\n",
    "import numpy as np\n",
    "\n",
    "fig = plt.figure(figsize=[12, 8])\n",
    "plt.scatter(EDU1length_between0208, EDU2length_between0208, c=accscore_between0208, s=10, cmap='YlGnBu')\n",
    "# plt.clim(0,0.5)\n",
    "cbar = plt.colorbar()\n",
    "cbar.ax.set_ylabel('Probability(Next Sentence) = True)')\n",
    "plt.ylabel('EDU 2 Length', fontsize=12)\n",
    "plt.xlabel('EDU 1 Length', fontsize=12)\n",
    "\n",
    "\n",
    "# plt.savefig('NextEDU/EDUsvsProbability_below05.jpg', dpi = 300)\n",
    "plt.show()"
   ]
  },
  {
   "cell_type": "code",
   "execution_count": 214,
   "metadata": {},
   "outputs": [
    {
     "data": {
      "text/plain": [
       "0.8451174471337674"
      ]
     },
     "execution_count": 214,
     "metadata": {},
     "output_type": "execute_result"
    }
   ],
   "source": [
    "sum(final_res)/len(final_res)"
   ]
  },
  {
   "cell_type": "code",
   "execution_count": 110,
   "metadata": {},
   "outputs": [
    {
     "data": {
      "text/plain": [
       "(0.7752213854175287, 0.8315815608706447, 0.15459736820326078)"
      ]
     },
     "execution_count": 110,
     "metadata": {},
     "output_type": "execute_result"
    }
   ],
   "source": [
    "sum(final_res > 0.99) / len(final_res), sum(final_res > 0.9) / len(final_res), sum(final_res < 0.5) / len(final_res)"
   ]
  },
  {
   "cell_type": "markdown",
   "metadata": {},
   "source": [
    "### Lets see examples of wrong predictions"
   ]
  },
  {
   "cell_type": "code",
   "execution_count": 271,
   "metadata": {},
   "outputs": [],
   "source": [
    "predicted_right = list(np.where(final_res > 0.5)[0])"
   ]
  },
  {
   "cell_type": "code",
   "execution_count": 230,
   "metadata": {
    "scrolled": true
   },
   "outputs": [],
   "source": [
    "predicted_wrong = list(np.where(final_res < 0.5)[0])"
   ]
  },
  {
   "cell_type": "code",
   "execution_count": 325,
   "metadata": {},
   "outputs": [
    {
     "data": {
      "text/plain": [
       "12083"
      ]
     },
     "execution_count": 325,
     "metadata": {},
     "output_type": "execute_result"
    }
   ],
   "source": [
    "1868+10215"
   ]
  },
  {
   "cell_type": "code",
   "execution_count": 232,
   "metadata": {},
   "outputs": [
    {
     "data": {
      "text/plain": [
       "[9,\n",
       " 10,\n",
       " 13,\n",
       " 14,\n",
       " 16,\n",
       " 18,\n",
       " 19,\n",
       " 21,\n",
       " 23,\n",
       " 26,\n",
       " 33,\n",
       " 41,\n",
       " 43,\n",
       " 71,\n",
       " 73,\n",
       " 75,\n",
       " 80,\n",
       " 87,\n",
       " 93,\n",
       " 96,\n",
       " 100,\n",
       " 108,\n",
       " 112,\n",
       " 113,\n",
       " 117,\n",
       " 127,\n",
       " 128,\n",
       " 131,\n",
       " 132,\n",
       " 153,\n",
       " 165,\n",
       " 166,\n",
       " 175,\n",
       " 190,\n",
       " 193,\n",
       " 195,\n",
       " 201,\n",
       " 204,\n",
       " 209,\n",
       " 210,\n",
       " 222,\n",
       " 230,\n",
       " 234,\n",
       " 238,\n",
       " 242,\n",
       " 252,\n",
       " 259,\n",
       " 267,\n",
       " 282,\n",
       " 287,\n",
       " 301,\n",
       " 306,\n",
       " 316,\n",
       " 327,\n",
       " 336,\n",
       " 339,\n",
       " 346,\n",
       " 347,\n",
       " 349,\n",
       " 359,\n",
       " 365,\n",
       " 378,\n",
       " 379,\n",
       " 383,\n",
       " 406,\n",
       " 408,\n",
       " 409,\n",
       " 413,\n",
       " 417,\n",
       " 426,\n",
       " 430,\n",
       " 431,\n",
       " 435,\n",
       " 439,\n",
       " 441,\n",
       " 446,\n",
       " 447,\n",
       " 454,\n",
       " 457,\n",
       " 481,\n",
       " 482,\n",
       " 485,\n",
       " 493,\n",
       " 494,\n",
       " 503,\n",
       " 505,\n",
       " 514,\n",
       " 528,\n",
       " 532,\n",
       " 534,\n",
       " 536,\n",
       " 540,\n",
       " 544,\n",
       " 568,\n",
       " 572,\n",
       " 585,\n",
       " 586,\n",
       " 591,\n",
       " 593,\n",
       " 594,\n",
       " 616,\n",
       " 617,\n",
       " 630,\n",
       " 631,\n",
       " 642,\n",
       " 651,\n",
       " 662,\n",
       " 671,\n",
       " 688,\n",
       " 690,\n",
       " 691,\n",
       " 693,\n",
       " 696,\n",
       " 711,\n",
       " 712,\n",
       " 713,\n",
       " 714,\n",
       " 718,\n",
       " 720,\n",
       " 722,\n",
       " 726,\n",
       " 730,\n",
       " 745,\n",
       " 765,\n",
       " 771,\n",
       " 777,\n",
       " 781,\n",
       " 789,\n",
       " 805,\n",
       " 812,\n",
       " 832,\n",
       " 833,\n",
       " 834,\n",
       " 840,\n",
       " 871,\n",
       " 881,\n",
       " 886,\n",
       " 887,\n",
       " 900,\n",
       " 904,\n",
       " 906,\n",
       " 910,\n",
       " 912,\n",
       " 913,\n",
       " 921,\n",
       " 923,\n",
       " 924,\n",
       " 928,\n",
       " 929,\n",
       " 931,\n",
       " 945,\n",
       " 948,\n",
       " 951,\n",
       " 973,\n",
       " 977,\n",
       " 979,\n",
       " 992,\n",
       " 997,\n",
       " 1008,\n",
       " 1022,\n",
       " 1025,\n",
       " 1027,\n",
       " 1039,\n",
       " 1045,\n",
       " 1046,\n",
       " 1052,\n",
       " 1068,\n",
       " 1069,\n",
       " 1075,\n",
       " 1076,\n",
       " 1081,\n",
       " 1084,\n",
       " 1091,\n",
       " 1095,\n",
       " 1101,\n",
       " 1102,\n",
       " 1104,\n",
       " 1106,\n",
       " 1114,\n",
       " 1115,\n",
       " 1116,\n",
       " 1124,\n",
       " 1125,\n",
       " 1140,\n",
       " 1156,\n",
       " 1158,\n",
       " 1165,\n",
       " 1166,\n",
       " 1168,\n",
       " 1178,\n",
       " 1182,\n",
       " 1183,\n",
       " 1207,\n",
       " 1216,\n",
       " 1222,\n",
       " 1229,\n",
       " 1231,\n",
       " 1235,\n",
       " 1243,\n",
       " 1244,\n",
       " 1245,\n",
       " 1247,\n",
       " 1249,\n",
       " 1252,\n",
       " 1257,\n",
       " 1282,\n",
       " 1288,\n",
       " 1292,\n",
       " 1298,\n",
       " 1308,\n",
       " 1316,\n",
       " 1327,\n",
       " 1328,\n",
       " 1347,\n",
       " 1376,\n",
       " 1379,\n",
       " 1383,\n",
       " 1384,\n",
       " 1386,\n",
       " 1387,\n",
       " 1391,\n",
       " 1392,\n",
       " 1424,\n",
       " 1426,\n",
       " 1434,\n",
       " 1435,\n",
       " 1440,\n",
       " 1442,\n",
       " 1444,\n",
       " 1460,\n",
       " 1461,\n",
       " 1466,\n",
       " 1471,\n",
       " 1472,\n",
       " 1474,\n",
       " 1481,\n",
       " 1490,\n",
       " 1491,\n",
       " 1497,\n",
       " 1512,\n",
       " 1513,\n",
       " 1518,\n",
       " 1521,\n",
       " 1524,\n",
       " 1526,\n",
       " 1527,\n",
       " 1536,\n",
       " 1544,\n",
       " 1547,\n",
       " 1549,\n",
       " 1552,\n",
       " 1553,\n",
       " 1568,\n",
       " 1595,\n",
       " 1596,\n",
       " 1615,\n",
       " 1629,\n",
       " 1630,\n",
       " 1634,\n",
       " 1641,\n",
       " 1650,\n",
       " 1651,\n",
       " 1652,\n",
       " 1659,\n",
       " 1660,\n",
       " 1661,\n",
       " 1662,\n",
       " 1674,\n",
       " 1682,\n",
       " 1683,\n",
       " 1688,\n",
       " 1689,\n",
       " 1711,\n",
       " 1716,\n",
       " 1720,\n",
       " 1725,\n",
       " 1727,\n",
       " 1740,\n",
       " 1748,\n",
       " 1755,\n",
       " 1761,\n",
       " 1784,\n",
       " 1805,\n",
       " 1819,\n",
       " 1821,\n",
       " 1822,\n",
       " 1823,\n",
       " 1831,\n",
       " 1843,\n",
       " 1849,\n",
       " 1851,\n",
       " 1899,\n",
       " 1900,\n",
       " 1901,\n",
       " 1902,\n",
       " 1903,\n",
       " 1907,\n",
       " 1912,\n",
       " 1921,\n",
       " 1950,\n",
       " 1953,\n",
       " 1954,\n",
       " 1959,\n",
       " 1960,\n",
       " 1967,\n",
       " 1977,\n",
       " 1979,\n",
       " 2000,\n",
       " 2010,\n",
       " 2011,\n",
       " 2014,\n",
       " 2023,\n",
       " 2030,\n",
       " 2041,\n",
       " 2043,\n",
       " 2047,\n",
       " 2052,\n",
       " 2055,\n",
       " 2062,\n",
       " 2072,\n",
       " 2074,\n",
       " 2078,\n",
       " 2082,\n",
       " 2083,\n",
       " 2090,\n",
       " 2095,\n",
       " 2120,\n",
       " 2137,\n",
       " 2139,\n",
       " 2178,\n",
       " 2184,\n",
       " 2211,\n",
       " 2217,\n",
       " 2226,\n",
       " 2228,\n",
       " 2233,\n",
       " 2234,\n",
       " 2259,\n",
       " 2263,\n",
       " 2269,\n",
       " 2276,\n",
       " 2277,\n",
       " 2280,\n",
       " 2281,\n",
       " 2283,\n",
       " 2284,\n",
       " 2285,\n",
       " 2286,\n",
       " 2287,\n",
       " 2290,\n",
       " 2291,\n",
       " 2300,\n",
       " 2301,\n",
       " 2302,\n",
       " 2311,\n",
       " 2312,\n",
       " 2316,\n",
       " 2362,\n",
       " 2381,\n",
       " 2387,\n",
       " 2401,\n",
       " 2402,\n",
       " 2411,\n",
       " 2416,\n",
       " 2417,\n",
       " 2421,\n",
       " 2444,\n",
       " 2446,\n",
       " 2460,\n",
       " 2461,\n",
       " 2498,\n",
       " 2500,\n",
       " 2508,\n",
       " 2509,\n",
       " 2510,\n",
       " 2514,\n",
       " 2525,\n",
       " 2526,\n",
       " 2529,\n",
       " 2540,\n",
       " 2547,\n",
       " 2563,\n",
       " 2565,\n",
       " 2575,\n",
       " 2576,\n",
       " 2582,\n",
       " 2589,\n",
       " 2607,\n",
       " 2611,\n",
       " 2615,\n",
       " 2631,\n",
       " 2632,\n",
       " 2637,\n",
       " 2644,\n",
       " 2646,\n",
       " 2647,\n",
       " 2648,\n",
       " 2655,\n",
       " 2656,\n",
       " 2661,\n",
       " 2663,\n",
       " 2665,\n",
       " 2670,\n",
       " 2678,\n",
       " 2685,\n",
       " 2686,\n",
       " 2688,\n",
       " 2689,\n",
       " 2690,\n",
       " 2695,\n",
       " 2709,\n",
       " 2741,\n",
       " 2747,\n",
       " 2748,\n",
       " 2773,\n",
       " 2777,\n",
       " 2791,\n",
       " 2793,\n",
       " 2822,\n",
       " 2837,\n",
       " 2843,\n",
       " 2847,\n",
       " 2852,\n",
       " 2854,\n",
       " 2855,\n",
       " 2863,\n",
       " 2889,\n",
       " 2909,\n",
       " 2911,\n",
       " 2912,\n",
       " 2921,\n",
       " 2922,\n",
       " 2925,\n",
       " 2926,\n",
       " 2935,\n",
       " 2936,\n",
       " 2938,\n",
       " 2949,\n",
       " 2966,\n",
       " 2969,\n",
       " 2973,\n",
       " 2979,\n",
       " 2981,\n",
       " 2988,\n",
       " 2998,\n",
       " 3006,\n",
       " 3013,\n",
       " 3014,\n",
       " 3021,\n",
       " 3024,\n",
       " 3029,\n",
       " 3033,\n",
       " 3045,\n",
       " 3048,\n",
       " 3079,\n",
       " 3080,\n",
       " 3081,\n",
       " 3082,\n",
       " 3086,\n",
       " 3087,\n",
       " 3098,\n",
       " 3102,\n",
       " 3106,\n",
       " 3112,\n",
       " 3122,\n",
       " 3130,\n",
       " 3134,\n",
       " 3136,\n",
       " 3139,\n",
       " 3152,\n",
       " 3153,\n",
       " 3157,\n",
       " 3164,\n",
       " 3166,\n",
       " 3170,\n",
       " 3171,\n",
       " 3172,\n",
       " 3173,\n",
       " 3174,\n",
       " 3175,\n",
       " 3181,\n",
       " 3183,\n",
       " 3184,\n",
       " 3186,\n",
       " 3187,\n",
       " 3188,\n",
       " 3190,\n",
       " 3192,\n",
       " 3193,\n",
       " 3194,\n",
       " 3202,\n",
       " 3205,\n",
       " 3207,\n",
       " 3208,\n",
       " 3213,\n",
       " 3215,\n",
       " 3222,\n",
       " 3239,\n",
       " 3256,\n",
       " 3261,\n",
       " 3263,\n",
       " 3264,\n",
       " 3276,\n",
       " 3281,\n",
       " 3282,\n",
       " 3299,\n",
       " 3303,\n",
       " 3326,\n",
       " 3328,\n",
       " 3329,\n",
       " 3412,\n",
       " 3432,\n",
       " 3450,\n",
       " 3462,\n",
       " 3464,\n",
       " 3485,\n",
       " 3489,\n",
       " 3490,\n",
       " 3514,\n",
       " 3522,\n",
       " 3524,\n",
       " 3527,\n",
       " 3534,\n",
       " 3539,\n",
       " 3541,\n",
       " 3548,\n",
       " 3550,\n",
       " 3560,\n",
       " 3563,\n",
       " 3568,\n",
       " 3572,\n",
       " 3579,\n",
       " 3584,\n",
       " 3589,\n",
       " 3601,\n",
       " 3606,\n",
       " 3611,\n",
       " 3613,\n",
       " 3617,\n",
       " 3655,\n",
       " 3659,\n",
       " 3660,\n",
       " 3661,\n",
       " 3663,\n",
       " 3673,\n",
       " 3675,\n",
       " 3676,\n",
       " 3679,\n",
       " 3683,\n",
       " 3694,\n",
       " 3696,\n",
       " 3697,\n",
       " 3707,\n",
       " 3708,\n",
       " 3719,\n",
       " 3723,\n",
       " 3724,\n",
       " 3725,\n",
       " 3726,\n",
       " 3727,\n",
       " 3739,\n",
       " 3740,\n",
       " 3749,\n",
       " 3750,\n",
       " 3752,\n",
       " 3753,\n",
       " 3758,\n",
       " 3759,\n",
       " 3763,\n",
       " 3770,\n",
       " 3772,\n",
       " 3773,\n",
       " 3775,\n",
       " 3821,\n",
       " 3823,\n",
       " 3826,\n",
       " 3827,\n",
       " 3836,\n",
       " 3848,\n",
       " 3850,\n",
       " 3865,\n",
       " 3869,\n",
       " 3873,\n",
       " 3874,\n",
       " 3883,\n",
       " 3889,\n",
       " 3891,\n",
       " 3895,\n",
       " 3897,\n",
       " 3928,\n",
       " 3930,\n",
       " 3931,\n",
       " 3940,\n",
       " 3942,\n",
       " 3943,\n",
       " 3947,\n",
       " 3950,\n",
       " 3951,\n",
       " 3952,\n",
       " 3955,\n",
       " 3964,\n",
       " 3969,\n",
       " 3975,\n",
       " 3976,\n",
       " 3979,\n",
       " 3981,\n",
       " 3985,\n",
       " 3988,\n",
       " 3989,\n",
       " 3997,\n",
       " 3998,\n",
       " 3999,\n",
       " 4006,\n",
       " 4038,\n",
       " 4047,\n",
       " 4052,\n",
       " 4058,\n",
       " 4059,\n",
       " 4075,\n",
       " 4077,\n",
       " 4078,\n",
       " 4079,\n",
       " 4080,\n",
       " 4081,\n",
       " 4082,\n",
       " 4087,\n",
       " 4088,\n",
       " 4089,\n",
       " 4090,\n",
       " 4091,\n",
       " 4107,\n",
       " 4109,\n",
       " 4115,\n",
       " 4125,\n",
       " 4142,\n",
       " 4146,\n",
       " 4152,\n",
       " 4161,\n",
       " 4169,\n",
       " 4170,\n",
       " 4171,\n",
       " 4175,\n",
       " 4177,\n",
       " 4185,\n",
       " 4192,\n",
       " 4194,\n",
       " 4195,\n",
       " 4198,\n",
       " 4199,\n",
       " 4218,\n",
       " 4220,\n",
       " 4223,\n",
       " 4227,\n",
       " 4236,\n",
       " 4238,\n",
       " 4241,\n",
       " 4245,\n",
       " 4254,\n",
       " 4256,\n",
       " 4265,\n",
       " 4283,\n",
       " 4284,\n",
       " 4295,\n",
       " 4325,\n",
       " 4331,\n",
       " 4380,\n",
       " 4382,\n",
       " 4390,\n",
       " 4391,\n",
       " 4397,\n",
       " 4399,\n",
       " 4404,\n",
       " 4410,\n",
       " 4414,\n",
       " 4426,\n",
       " 4429,\n",
       " 4430,\n",
       " 4435,\n",
       " 4436,\n",
       " 4439,\n",
       " 4445,\n",
       " 4447,\n",
       " 4454,\n",
       " 4455,\n",
       " 4465,\n",
       " 4467,\n",
       " 4473,\n",
       " 4476,\n",
       " 4479,\n",
       " 4485,\n",
       " 4489,\n",
       " 4491,\n",
       " 4517,\n",
       " 4518,\n",
       " 4522,\n",
       " 4525,\n",
       " 4526,\n",
       " 4530,\n",
       " 4537,\n",
       " 4541,\n",
       " 4543,\n",
       " 4549,\n",
       " 4561,\n",
       " 4565,\n",
       " 4567,\n",
       " 4568,\n",
       " 4572,\n",
       " 4578,\n",
       " 4586,\n",
       " 4590,\n",
       " 4592,\n",
       " 4595,\n",
       " 4598,\n",
       " 4604,\n",
       " 4605,\n",
       " 4606,\n",
       " 4619,\n",
       " 4620,\n",
       " 4631,\n",
       " 4638,\n",
       " 4640,\n",
       " 4641,\n",
       " 4644,\n",
       " 4646,\n",
       " 4657,\n",
       " 4658,\n",
       " 4661,\n",
       " 4666,\n",
       " 4668,\n",
       " 4669,\n",
       " 4670,\n",
       " 4672,\n",
       " 4673,\n",
       " 4674,\n",
       " 4689,\n",
       " 4692,\n",
       " 4694,\n",
       " 4696,\n",
       " 4705,\n",
       " 4709,\n",
       " 4712,\n",
       " 4717,\n",
       " 4719,\n",
       " 4720,\n",
       " 4726,\n",
       " 4727,\n",
       " 4731,\n",
       " 4737,\n",
       " 4738,\n",
       " 4748,\n",
       " 4750,\n",
       " 4785,\n",
       " 4788,\n",
       " 4791,\n",
       " 4801,\n",
       " 4809,\n",
       " 4818,\n",
       " 4821,\n",
       " 4831,\n",
       " 4844,\n",
       " 4856,\n",
       " 4878,\n",
       " 4896,\n",
       " 4898,\n",
       " 4901,\n",
       " 4910,\n",
       " 4913,\n",
       " 4926,\n",
       " 4928,\n",
       " 4933,\n",
       " 4934,\n",
       " 4943,\n",
       " 4946,\n",
       " 4949,\n",
       " 4962,\n",
       " 4973,\n",
       " 4989,\n",
       " 5013,\n",
       " 5016,\n",
       " 5020,\n",
       " 5035,\n",
       " 5036,\n",
       " 5037,\n",
       " 5050,\n",
       " 5078,\n",
       " 5086,\n",
       " 5087,\n",
       " 5102,\n",
       " 5111,\n",
       " 5159,\n",
       " 5176,\n",
       " 5184,\n",
       " 5189,\n",
       " 5190,\n",
       " 5192,\n",
       " 5193,\n",
       " 5197,\n",
       " 5222,\n",
       " 5233,\n",
       " 5250,\n",
       " 5254,\n",
       " 5264,\n",
       " 5265,\n",
       " 5273,\n",
       " 5275,\n",
       " 5279,\n",
       " 5284,\n",
       " 5286,\n",
       " 5287,\n",
       " 5291,\n",
       " 5308,\n",
       " 5313,\n",
       " 5324,\n",
       " 5330,\n",
       " 5334,\n",
       " 5337,\n",
       " 5340,\n",
       " 5346,\n",
       " 5347,\n",
       " 5356,\n",
       " 5357,\n",
       " 5358,\n",
       " 5361,\n",
       " 5364,\n",
       " 5380,\n",
       " 5385,\n",
       " 5388,\n",
       " 5402,\n",
       " 5403,\n",
       " 5409,\n",
       " 5411,\n",
       " 5417,\n",
       " 5425,\n",
       " 5437,\n",
       " 5438,\n",
       " 5457,\n",
       " 5462,\n",
       " 5464,\n",
       " 5467,\n",
       " 5470,\n",
       " 5473,\n",
       " 5474,\n",
       " 5477,\n",
       " 5480,\n",
       " 5481,\n",
       " 5507,\n",
       " 5510,\n",
       " 5522,\n",
       " 5559,\n",
       " 5564,\n",
       " 5566,\n",
       " 5569,\n",
       " 5573,\n",
       " 5575,\n",
       " 5577,\n",
       " 5578,\n",
       " 5580,\n",
       " 5581,\n",
       " 5583,\n",
       " 5590,\n",
       " 5594,\n",
       " 5599,\n",
       " 5601,\n",
       " 5602,\n",
       " 5605,\n",
       " 5608,\n",
       " 5613,\n",
       " 5631,\n",
       " 5632,\n",
       " 5640,\n",
       " 5646,\n",
       " 5650,\n",
       " 5655,\n",
       " 5656,\n",
       " 5657,\n",
       " 5659,\n",
       " 5678,\n",
       " 5679,\n",
       " 5680,\n",
       " 5712,\n",
       " 5728,\n",
       " 5741,\n",
       " 5743,\n",
       " 5746,\n",
       " 5747,\n",
       " 5749,\n",
       " 5751,\n",
       " 5757,\n",
       " 5764,\n",
       " 5781,\n",
       " 5786,\n",
       " 5793,\n",
       " 5807,\n",
       " 5810,\n",
       " 5818,\n",
       " 5825,\n",
       " 5830,\n",
       " 5831,\n",
       " 5835,\n",
       " 5836,\n",
       " 5847,\n",
       " 5849,\n",
       " 5851,\n",
       " 5855,\n",
       " 5858,\n",
       " 5867,\n",
       " 5868,\n",
       " 5869,\n",
       " 5877,\n",
       " 5888,\n",
       " 5891,\n",
       " 5894,\n",
       " 5909,\n",
       " 5920,\n",
       " 5922,\n",
       " 5924,\n",
       " 5927,\n",
       " 5933,\n",
       " 5936,\n",
       " 5937,\n",
       " 5940,\n",
       " 5944,\n",
       " 5946,\n",
       " 5959,\n",
       " 5969,\n",
       " 5975,\n",
       " 5976,\n",
       " 5977,\n",
       " 5980,\n",
       " 5986,\n",
       " 5990,\n",
       " 5993,\n",
       " 6000,\n",
       " 6002,\n",
       " 6012,\n",
       " 6021,\n",
       " 6022,\n",
       " 6023,\n",
       " 6028,\n",
       " 6036,\n",
       " 6039,\n",
       " 6041,\n",
       " 6049,\n",
       " 6057,\n",
       " 6062,\n",
       " 6076,\n",
       " 6084,\n",
       " 6086,\n",
       " 6089,\n",
       " 6096,\n",
       " 6103,\n",
       " 6105,\n",
       " 6106,\n",
       " 6113,\n",
       " 6118,\n",
       " 6119,\n",
       " 6120,\n",
       " 6135,\n",
       " 6141,\n",
       " 6143,\n",
       " 6144,\n",
       " 6154,\n",
       " 6160,\n",
       " 6168,\n",
       " 6173,\n",
       " 6175,\n",
       " 6176,\n",
       " 6181,\n",
       " 6184,\n",
       " 6186,\n",
       " 6194,\n",
       " 6209,\n",
       " 6217,\n",
       " 6221,\n",
       " 6222,\n",
       " 6237,\n",
       " 6241,\n",
       " 6244,\n",
       " 6271,\n",
       " 6303,\n",
       " 6331,\n",
       " 6334,\n",
       " 6345,\n",
       " 6360,\n",
       " 6382,\n",
       " 6390,\n",
       " 6394,\n",
       " 6397,\n",
       " 6401,\n",
       " 6403,\n",
       " 6404,\n",
       " 6411,\n",
       " 6412,\n",
       " 6416,\n",
       " 6423,\n",
       " 6431,\n",
       " 6432,\n",
       " 6434,\n",
       " 6437,\n",
       " 6440,\n",
       " ...]"
      ]
     },
     "execution_count": 232,
     "metadata": {},
     "output_type": "execute_result"
    }
   ],
   "source": [
    "predicted_wrong"
   ]
  },
  {
   "cell_type": "code",
   "execution_count": 251,
   "metadata": {
    "scrolled": true
   },
   "outputs": [
    {
     "data": {
      "text/plain": [
       "('The bank had been suffering in late 1987 from a slew of bad real estate loans',\n",
       " 'made in Arizona.')"
      ]
     },
     "execution_count": 251,
     "metadata": {},
     "output_type": "execute_result"
    }
   ],
   "source": [
    "\n",
    "idx =5781\n",
    "df_full.iloc[idx].EDU1, df_full.iloc[idx].EDU2"
   ]
  },
  {
   "cell_type": "code",
   "execution_count": 250,
   "metadata": {},
   "outputs": [
    {
     "data": {
      "text/plain": [
       "('She believes',\n",
       " \"the impact of losses from these catastrophes isn't likely to halt the growth of the industry's surplus capital next year.\")"
      ]
     },
     "execution_count": 250,
     "metadata": {},
     "output_type": "execute_result"
    }
   ],
   "source": [
    "idx =6345\n",
    "df_full.iloc[idx].EDU1, df_full.iloc[idx].EDU2"
   ]
  },
  {
   "cell_type": "code",
   "execution_count": 249,
   "metadata": {},
   "outputs": [
    {
     "data": {
      "text/plain": [
       "(\"we'll call Ben\", 'works part-time as a consultant,')"
      ]
     },
     "execution_count": 249,
     "metadata": {},
     "output_type": "execute_result"
    }
   ],
   "source": [
    "idx = 5287\n",
    "df_full.iloc[idx].EDU1, df_full.iloc[idx].EDU2"
   ]
  },
  {
   "cell_type": "code",
   "execution_count": 248,
   "metadata": {},
   "outputs": [
    {
     "data": {
      "text/plain": [
       "('it received an order for 23 of the vehicles,',\n",
       " 'which retrieve tanks and other heavy-tracked vehicles')"
      ]
     },
     "execution_count": 248,
     "metadata": {},
     "output_type": "execute_result"
    }
   ],
   "source": [
    "idx = 4565\n",
    "df_full.iloc[idx].EDU1, df_full.iloc[idx].EDU2"
   ]
  },
  {
   "cell_type": "code",
   "execution_count": 212,
   "metadata": {},
   "outputs": [
    {
     "data": {
      "text/plain": [
       "('During the next decade,', 'Mr. Kume said,')"
      ]
     },
     "execution_count": 212,
     "metadata": {},
     "output_type": "execute_result"
    }
   ],
   "source": [
    "idx = 10\n",
    "df_full.iloc[idx].EDU1, df_full.iloc[idx].EDU2"
   ]
  },
  {
   "cell_type": "code",
   "execution_count": 233,
   "metadata": {},
   "outputs": [
    {
     "data": {
      "text/plain": [
       "('that', 'its fans claim')"
      ]
     },
     "execution_count": 233,
     "metadata": {},
     "output_type": "execute_result"
    }
   ],
   "source": [
    "idx = 2281\n",
    "df_full.iloc[idx].EDU1, df_full.iloc[idx].EDU2"
   ]
  },
  {
   "cell_type": "code",
   "execution_count": 247,
   "metadata": {},
   "outputs": [
    {
     "data": {
      "text/plain": [
       "('The U.S. is submitting the proposal today in Geneva,', 'hoping')"
      ]
     },
     "execution_count": 247,
     "metadata": {},
     "output_type": "execute_result"
    }
   ],
   "source": [
    "idx = 3897\n",
    "df_full.iloc[idx].EDU1, df_full.iloc[idx].EDU2"
   ]
  },
  {
   "cell_type": "code",
   "execution_count": 256,
   "metadata": {},
   "outputs": [
    {
     "name": "stdout",
     "output_type": "stream",
     "text": [
      "43.74038179148312\n",
      "46.16485560450318\n"
     ]
    }
   ],
   "source": [
    "print(sum(EDU1length_above05)/len(EDU1length_above05))\n",
    "print(sum(EDU2length_above05)/len(EDU2length_above05))"
   ]
  },
  {
   "cell_type": "code",
   "execution_count": 257,
   "metadata": {},
   "outputs": [
    {
     "name": "stdout",
     "output_type": "stream",
     "text": [
      "37.82280513918629\n",
      "38.3838329764454\n"
     ]
    }
   ],
   "source": [
    "print(sum(EDU1length_below05)/len(EDU1length_below05))\n",
    "print(sum(EDU2length_below05)/len(EDU2length_below05))"
   ]
  },
  {
   "cell_type": "code",
   "execution_count": 268,
   "metadata": {},
   "outputs": [],
   "source": [
    "said_counter_edu1 = 0\n",
    "said_counter_edu2 = 0\n",
    "\n",
    "for ix in predicted_wrong:\n",
    "    if \"said\" in df_full.iloc[ix].EDU1:\n",
    "        said_counter_edu1+=1\n",
    "    if \"said\" in df_full.iloc[ix].EDU2:\n",
    "        said_counter_edu2 +=1    "
   ]
  },
  {
   "cell_type": "code",
   "execution_count": 270,
   "metadata": {},
   "outputs": [
    {
     "data": {
      "text/plain": [
       "(261, 227)"
      ]
     },
     "execution_count": 270,
     "metadata": {},
     "output_type": "execute_result"
    }
   ],
   "source": [
    "said_counter_edu1, said_counter_edu2"
   ]
  },
  {
   "cell_type": "code",
   "execution_count": 276,
   "metadata": {},
   "outputs": [
    {
     "data": {
      "text/plain": [
       "(0.13972162740899358, 0.1215203426124197)"
      ]
     },
     "execution_count": 276,
     "metadata": {},
     "output_type": "execute_result"
    }
   ],
   "source": [
    "said_counter_edu1/len(predicted_wrong), said_counter_edu2/len(predicted_wrong)"
   ]
  },
  {
   "cell_type": "code",
   "execution_count": 274,
   "metadata": {},
   "outputs": [],
   "source": [
    "said_counter_edu1_right = 0\n",
    "said_counter_edu2_right = 0\n",
    "\n",
    "for ix in predicted_right:\n",
    "    if \"said\" in df_full.iloc[ix].EDU1:\n",
    "        said_counter_edu1_right+=1\n",
    "    if \"said\" in df_full.iloc[ix].EDU2:\n",
    "        said_counter_edu2_right +=1    "
   ]
  },
  {
   "cell_type": "code",
   "execution_count": 290,
   "metadata": {},
   "outputs": [
    {
     "data": {
      "text/plain": [
       "(636, 341)"
      ]
     },
     "execution_count": 290,
     "metadata": {},
     "output_type": "execute_result"
    }
   ],
   "source": [
    "said_counter_edu1_right, said_counter_edu2_right"
   ]
  },
  {
   "cell_type": "code",
   "execution_count": 277,
   "metadata": {},
   "outputs": [
    {
     "data": {
      "text/plain": [
       "(0.06226138032305433, 0.03338228095937347)"
      ]
     },
     "execution_count": 277,
     "metadata": {},
     "output_type": "execute_result"
    }
   ],
   "source": [
    "said_counter_edu1_right/len(predicted_right), said_counter_edu2_right/len(predicted_right)"
   ]
  },
  {
   "cell_type": "code",
   "execution_count": null,
   "metadata": {},
   "outputs": [],
   "source": [
    "idx = 2281\n",
    "df_full.iloc[idx].EDU1, df_full.iloc[idx].EDU2"
   ]
  },
  {
   "cell_type": "code",
   "execution_count": null,
   "metadata": {},
   "outputs": [],
   "source": [
    "from pprint import pprint\n",
    "for _, row in df_full.iloc[best_matches].iterrows():\n",
    "    pprint(row.to_dict())"
   ]
  },
  {
   "cell_type": "markdown",
   "metadata": {},
   "source": [
    "### Can we find the most common tokens in predicted vs not-predicted? Is there a difference?"
   ]
  },
  {
   "cell_type": "code",
   "execution_count": 291,
   "metadata": {},
   "outputs": [],
   "source": [
    "EDU1_right = []\n",
    "EDU2_right = []\n",
    "\n",
    "for ix in predicted_right:\n",
    "    EDU1_right.append(df_full.iloc[ix].EDU1)\n",
    "    EDU2_right.append(df_full.iloc[ix].EDU2)"
   ]
  },
  {
   "cell_type": "code",
   "execution_count": 294,
   "metadata": {},
   "outputs": [],
   "source": [
    "EDU1_wrong = []\n",
    "EDU2_wrong = []\n",
    "\n",
    "for ix in predicted_wrong:\n",
    "    EDU1_wrong.append(df_full.iloc[ix].EDU1)\n",
    "    EDU2_wrong.append(df_full.iloc[ix].EDU2)"
   ]
  },
  {
   "cell_type": "code",
   "execution_count": 310,
   "metadata": {},
   "outputs": [],
   "source": [
    "EDU1_right_text = ' '.join(EDU1_right).lower()\n",
    "EDU2_right_text = ' '.join(EDU2_right).lower()\n",
    "\n",
    "\n",
    "EDU1_wrong_text = ' '.join(EDU1_wrong).lower()\n",
    "EDU2_wrong_text = ' '.join(EDU2_wrong).lower()"
   ]
  },
  {
   "cell_type": "code",
   "execution_count": 311,
   "metadata": {},
   "outputs": [],
   "source": [
    "import spacy\n",
    "from collections import Counter"
   ]
  },
  {
   "cell_type": "code",
   "execution_count": 315,
   "metadata": {},
   "outputs": [],
   "source": [
    "nlp = spacy.load('en')\n",
    "doc = nlp(EDU1_right_text)\n",
    "# all tokens that arent stop words or punctuations"
   ]
  },
  {
   "cell_type": "code",
   "execution_count": 317,
   "metadata": {},
   "outputs": [],
   "source": [
    "EDU1_right_text_lemma = ' '.join([token.lemma_ for token in doc])"
   ]
  },
  {
   "cell_type": "code",
   "execution_count": 319,
   "metadata": {},
   "outputs": [],
   "source": [
    "words = [token.text for token in doc if token.is_stop != True and token.is_punct != True]\n",
    "\n",
    "# noun tokens that arent stop words or punctuations\n",
    "nouns = [token.text for token in doc if token.is_stop != True and token.is_punct != True and token.pos_ == \"NOUN\"]\n",
    "\n",
    "# five most common tokens\n",
    "word_freq = Counter(words)\n",
    "common_words = word_freq.most_common(20)\n",
    "\n",
    "# five most common noun tokens\n",
    "noun_freq = Counter(nouns)\n",
    "common_nouns = noun_freq.most_common(20)"
   ]
  },
  {
   "cell_type": "code",
   "execution_count": 320,
   "metadata": {},
   "outputs": [
    {
     "data": {
      "text/plain": [
       "[('said', 637),\n",
       " ('$', 515),\n",
       " ('million', 339),\n",
       " ('mr', 332),\n",
       " ('company', 283),\n",
       " ('new', 230),\n",
       " ('year', 226),\n",
       " ('u.s', 210),\n",
       " ('market', 191),\n",
       " ('corp', 187),\n",
       " ('inc', 168),\n",
       " ('billion', 158),\n",
       " ('co.', 149),\n",
       " ('stock', 145),\n",
       " ('says', 124),\n",
       " ('federal', 122),\n",
       " ('shares', 120),\n",
       " ('president', 114),\n",
       " ('sales', 108),\n",
       " ('bonds', 107)]"
      ]
     },
     "execution_count": 320,
     "metadata": {},
     "output_type": "execute_result"
    }
   ],
   "source": [
    "common_words"
   ]
  },
  {
   "cell_type": "code",
   "execution_count": 321,
   "metadata": {},
   "outputs": [
    {
     "data": {
      "text/plain": [
       "[('-PRON-', 2202),\n",
       " ('$', 515),\n",
       " ('company', 362),\n",
       " ('million', 342),\n",
       " ('mr', 332),\n",
       " ('year', 325),\n",
       " ('market', 236),\n",
       " ('new', 233),\n",
       " ('share', 219),\n",
       " ('u.s', 207),\n",
       " ('price', 205),\n",
       " ('stock', 197),\n",
       " ('corp', 187),\n",
       " ('inc', 168),\n",
       " ('billion', 161),\n",
       " ('bond', 151),\n",
       " ('co.', 149),\n",
       " ('sale', 139),\n",
       " ('expect', 130),\n",
       " ('buy', 128)]"
      ]
     },
     "execution_count": 321,
     "metadata": {},
     "output_type": "execute_result"
    }
   ],
   "source": [
    "doc2 = nlp(EDU1_right_text_lemma)\n",
    "words = [token.text for token in doc2 if token.is_stop != True and token.is_punct != True]\n",
    "\n",
    "# noun tokens that arent stop words or punctuations\n",
    "nouns = [token.text for token in doc if token.is_stop != True and token.is_punct != True and token.pos_ == \"NOUN\"]\n",
    "\n",
    "# five most common tokens\n",
    "word_freq = Counter(words)\n",
    "common_words = word_freq.most_common(20)\n",
    "\n",
    "# five most common noun tokens\n",
    "noun_freq = Counter(nouns)\n",
    "common_nouns = noun_freq.most_common(20)\n",
    "\n",
    "common_words"
   ]
  },
  {
   "cell_type": "code",
   "execution_count": null,
   "metadata": {},
   "outputs": [],
   "source": []
  }
 ],
 "metadata": {
  "kernelspec": {
   "display_name": "Python 3",
   "language": "python",
   "name": "python3"
  },
  "language_info": {
   "codemirror_mode": {
    "name": "ipython",
    "version": 3
   },
   "file_extension": ".py",
   "mimetype": "text/x-python",
   "name": "python",
   "nbconvert_exporter": "python",
   "pygments_lexer": "ipython3",
   "version": "3.7.3"
  }
 },
 "nbformat": 4,
 "nbformat_minor": 2
}
